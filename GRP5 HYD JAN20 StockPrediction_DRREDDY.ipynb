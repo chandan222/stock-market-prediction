{
 "cells": [
  {
   "cell_type": "code",
   "execution_count": null,
   "metadata": {
    "colab": {
     "base_uri": "https://localhost:8080/"
    },
    "id": "PBD4uX4HIeXp",
    "outputId": "695fb6dc-9126-4ff1-afd9-ff95e3f0a194"
   },
   "outputs": [
    {
     "name": "stdout",
     "output_type": "stream",
     "text": [
      "Collecting yfinance\n",
      "  Downloading yfinance-0.1.63.tar.gz (26 kB)\n",
      "Requirement already satisfied: pandas>=0.24 in /usr/local/lib/python3.7/dist-packages (from yfinance) (1.1.5)\n",
      "Requirement already satisfied: numpy>=1.15 in /usr/local/lib/python3.7/dist-packages (from yfinance) (1.19.5)\n",
      "Requirement already satisfied: requests>=2.20 in /usr/local/lib/python3.7/dist-packages (from yfinance) (2.23.0)\n",
      "Requirement already satisfied: multitasking>=0.0.7 in /usr/local/lib/python3.7/dist-packages (from yfinance) (0.0.9)\n",
      "Collecting lxml>=4.5.1\n",
      "  Downloading lxml-4.6.3-cp37-cp37m-manylinux2014_x86_64.whl (6.3 MB)\n",
      "\u001b[K     |████████████████████████████████| 6.3 MB 6.8 MB/s \n",
      "\u001b[?25hRequirement already satisfied: python-dateutil>=2.7.3 in /usr/local/lib/python3.7/dist-packages (from pandas>=0.24->yfinance) (2.8.2)\n",
      "Requirement already satisfied: pytz>=2017.2 in /usr/local/lib/python3.7/dist-packages (from pandas>=0.24->yfinance) (2018.9)\n",
      "Requirement already satisfied: six>=1.5 in /usr/local/lib/python3.7/dist-packages (from python-dateutil>=2.7.3->pandas>=0.24->yfinance) (1.15.0)\n",
      "Requirement already satisfied: idna<3,>=2.5 in /usr/local/lib/python3.7/dist-packages (from requests>=2.20->yfinance) (2.10)\n",
      "Requirement already satisfied: urllib3!=1.25.0,!=1.25.1,<1.26,>=1.21.1 in /usr/local/lib/python3.7/dist-packages (from requests>=2.20->yfinance) (1.24.3)\n",
      "Requirement already satisfied: certifi>=2017.4.17 in /usr/local/lib/python3.7/dist-packages (from requests>=2.20->yfinance) (2021.5.30)\n",
      "Requirement already satisfied: chardet<4,>=3.0.2 in /usr/local/lib/python3.7/dist-packages (from requests>=2.20->yfinance) (3.0.4)\n",
      "Building wheels for collected packages: yfinance\n",
      "  Building wheel for yfinance (setup.py) ... \u001b[?25l\u001b[?25hdone\n",
      "  Created wheel for yfinance: filename=yfinance-0.1.63-py2.py3-none-any.whl size=23918 sha256=2245840220338bcdf085bacc4cd1d84d5e3aa323bb7a77a7784f9150ad7e89ef\n",
      "  Stored in directory: /root/.cache/pip/wheels/fe/87/8b/7ec24486e001d3926537f5f7801f57a74d181be25b11157983\n",
      "Successfully built yfinance\n",
      "Installing collected packages: lxml, yfinance\n",
      "  Attempting uninstall: lxml\n",
      "    Found existing installation: lxml 4.2.6\n",
      "    Uninstalling lxml-4.2.6:\n",
      "      Successfully uninstalled lxml-4.2.6\n",
      "Successfully installed lxml-4.6.3 yfinance-0.1.63\n"
     ]
    }
   ],
   "source": [
    "pip install yfinance"
   ]
  },
  {
   "cell_type": "code",
   "execution_count": null,
   "metadata": {
    "colab": {
     "base_uri": "https://localhost:8080/"
    },
    "id": "-M2szpSsIiqk",
    "outputId": "13cbef51-3879-4641-8090-3dd03f22d5e2"
   },
   "outputs": [
    {
     "name": "stdout",
     "output_type": "stream",
     "text": [
      "Collecting bsedata\n",
      "  Downloading bsedata-0.5.0-py3-none-any.whl (17 kB)\n",
      "Requirement already satisfied: lxml in /usr/local/lib/python3.7/dist-packages (from bsedata) (4.6.3)\n",
      "Requirement already satisfied: beautifulsoup4 in /usr/local/lib/python3.7/dist-packages (from bsedata) (4.6.3)\n",
      "Requirement already satisfied: requests in /usr/local/lib/python3.7/dist-packages (from bsedata) (2.23.0)\n",
      "Requirement already satisfied: chardet<4,>=3.0.2 in /usr/local/lib/python3.7/dist-packages (from requests->bsedata) (3.0.4)\n",
      "Requirement already satisfied: idna<3,>=2.5 in /usr/local/lib/python3.7/dist-packages (from requests->bsedata) (2.10)\n",
      "Requirement already satisfied: certifi>=2017.4.17 in /usr/local/lib/python3.7/dist-packages (from requests->bsedata) (2021.5.30)\n",
      "Requirement already satisfied: urllib3!=1.25.0,!=1.25.1,<1.26,>=1.21.1 in /usr/local/lib/python3.7/dist-packages (from requests->bsedata) (1.24.3)\n",
      "Installing collected packages: bsedata\n",
      "Successfully installed bsedata-0.5.0\n"
     ]
    }
   ],
   "source": [
    "pip install bsedata"
   ]
  },
  {
   "cell_type": "code",
   "execution_count": null,
   "metadata": {
    "id": "VLobjQpDIljT"
   },
   "outputs": [],
   "source": [
    "import pandas as pd \n",
    "import numpy as np\n",
    "import matplotlib.pyplot as plt\n",
    "import seaborn as sns\n",
    "\n",
    "import yfinance as yf\n",
    "from  bsedata.bse import BSE"
   ]
  },
  {
   "cell_type": "code",
   "execution_count": null,
   "metadata": {
    "colab": {
     "base_uri": "https://localhost:8080/"
    },
    "id": "cMr9ThvGInax",
    "outputId": "05e52572-3476-40b2-f0d6-1a7b9d83803f"
   },
   "outputs": [
    {
     "name": "stdout",
     "output_type": "stream",
     "text": [
      "\r",
      "[*********************100%***********************]  1 of 1 completed\n"
     ]
    }
   ],
   "source": [
    "df = yf.download(\"DRREDDY.NS\").reset_index()"
   ]
  },
  {
   "cell_type": "code",
   "execution_count": null,
   "metadata": {
    "colab": {
     "base_uri": "https://localhost:8080/",
     "height": 357
    },
    "id": "2M6iSUOoIs37",
    "outputId": "a8972cee-02c6-429e-8eae-8a2df7393af8"
   },
   "outputs": [
    {
     "data": {
      "text/html": [
       "<div>\n",
       "<style scoped>\n",
       "    .dataframe tbody tr th:only-of-type {\n",
       "        vertical-align: middle;\n",
       "    }\n",
       "\n",
       "    .dataframe tbody tr th {\n",
       "        vertical-align: top;\n",
       "    }\n",
       "\n",
       "    .dataframe thead th {\n",
       "        text-align: right;\n",
       "    }\n",
       "</style>\n",
       "<table border=\"1\" class=\"dataframe\">\n",
       "  <thead>\n",
       "    <tr style=\"text-align: right;\">\n",
       "      <th></th>\n",
       "      <th>Date</th>\n",
       "      <th>Open</th>\n",
       "      <th>High</th>\n",
       "      <th>Low</th>\n",
       "      <th>Close</th>\n",
       "      <th>Adj Close</th>\n",
       "      <th>Volume</th>\n",
       "    </tr>\n",
       "  </thead>\n",
       "  <tbody>\n",
       "    <tr>\n",
       "      <th>0</th>\n",
       "      <td>1996-01-01</td>\n",
       "      <td>56.400002</td>\n",
       "      <td>56.500000</td>\n",
       "      <td>55.750000</td>\n",
       "      <td>55.750000</td>\n",
       "      <td>48.574963</td>\n",
       "      <td>2800</td>\n",
       "    </tr>\n",
       "    <tr>\n",
       "      <th>1</th>\n",
       "      <td>1996-01-02</td>\n",
       "      <td>55.750000</td>\n",
       "      <td>55.750000</td>\n",
       "      <td>55.262501</td>\n",
       "      <td>55.275002</td>\n",
       "      <td>48.161102</td>\n",
       "      <td>8400</td>\n",
       "    </tr>\n",
       "    <tr>\n",
       "      <th>2</th>\n",
       "      <td>1996-01-03</td>\n",
       "      <td>55.275002</td>\n",
       "      <td>55.625000</td>\n",
       "      <td>55.250000</td>\n",
       "      <td>55.299999</td>\n",
       "      <td>48.182880</td>\n",
       "      <td>11200</td>\n",
       "    </tr>\n",
       "    <tr>\n",
       "      <th>3</th>\n",
       "      <td>1996-01-04</td>\n",
       "      <td>55.299999</td>\n",
       "      <td>53.750000</td>\n",
       "      <td>53.037498</td>\n",
       "      <td>53.312500</td>\n",
       "      <td>46.451180</td>\n",
       "      <td>3600</td>\n",
       "    </tr>\n",
       "    <tr>\n",
       "      <th>4</th>\n",
       "      <td>1996-01-05</td>\n",
       "      <td>53.312500</td>\n",
       "      <td>53.987499</td>\n",
       "      <td>52.000000</td>\n",
       "      <td>52.049999</td>\n",
       "      <td>45.351151</td>\n",
       "      <td>12000</td>\n",
       "    </tr>\n",
       "    <tr>\n",
       "      <th>5</th>\n",
       "      <td>1996-01-08</td>\n",
       "      <td>52.049999</td>\n",
       "      <td>53.500000</td>\n",
       "      <td>51.250000</td>\n",
       "      <td>51.375000</td>\n",
       "      <td>44.763023</td>\n",
       "      <td>12400</td>\n",
       "    </tr>\n",
       "    <tr>\n",
       "      <th>6</th>\n",
       "      <td>1996-01-09</td>\n",
       "      <td>51.375000</td>\n",
       "      <td>51.500000</td>\n",
       "      <td>49.250000</td>\n",
       "      <td>49.950001</td>\n",
       "      <td>43.521420</td>\n",
       "      <td>18000</td>\n",
       "    </tr>\n",
       "    <tr>\n",
       "      <th>7</th>\n",
       "      <td>1996-01-10</td>\n",
       "      <td>49.950001</td>\n",
       "      <td>51.012501</td>\n",
       "      <td>50.012501</td>\n",
       "      <td>50.737499</td>\n",
       "      <td>44.207581</td>\n",
       "      <td>6800</td>\n",
       "    </tr>\n",
       "    <tr>\n",
       "      <th>8</th>\n",
       "      <td>1996-01-11</td>\n",
       "      <td>50.737499</td>\n",
       "      <td>52.000000</td>\n",
       "      <td>51.250000</td>\n",
       "      <td>51.875000</td>\n",
       "      <td>45.198685</td>\n",
       "      <td>5600</td>\n",
       "    </tr>\n",
       "    <tr>\n",
       "      <th>9</th>\n",
       "      <td>1996-01-12</td>\n",
       "      <td>51.875000</td>\n",
       "      <td>52.250000</td>\n",
       "      <td>52.000000</td>\n",
       "      <td>52.000000</td>\n",
       "      <td>45.307598</td>\n",
       "      <td>4800</td>\n",
       "    </tr>\n",
       "  </tbody>\n",
       "</table>\n",
       "</div>"
      ],
      "text/plain": [
       "        Date       Open       High        Low      Close  Adj Close  Volume\n",
       "0 1996-01-01  56.400002  56.500000  55.750000  55.750000  48.574963    2800\n",
       "1 1996-01-02  55.750000  55.750000  55.262501  55.275002  48.161102    8400\n",
       "2 1996-01-03  55.275002  55.625000  55.250000  55.299999  48.182880   11200\n",
       "3 1996-01-04  55.299999  53.750000  53.037498  53.312500  46.451180    3600\n",
       "4 1996-01-05  53.312500  53.987499  52.000000  52.049999  45.351151   12000\n",
       "5 1996-01-08  52.049999  53.500000  51.250000  51.375000  44.763023   12400\n",
       "6 1996-01-09  51.375000  51.500000  49.250000  49.950001  43.521420   18000\n",
       "7 1996-01-10  49.950001  51.012501  50.012501  50.737499  44.207581    6800\n",
       "8 1996-01-11  50.737499  52.000000  51.250000  51.875000  45.198685    5600\n",
       "9 1996-01-12  51.875000  52.250000  52.000000  52.000000  45.307598    4800"
      ]
     },
     "execution_count": 5,
     "metadata": {},
     "output_type": "execute_result"
    }
   ],
   "source": [
    "df.head(10)"
   ]
  },
  {
   "cell_type": "code",
   "execution_count": null,
   "metadata": {
    "colab": {
     "base_uri": "https://localhost:8080/",
     "height": 295
    },
    "id": "L-K_j9OPIvmL",
    "outputId": "8862f544-cd91-49ca-b769-d2499149cdf6"
   },
   "outputs": [
    {
     "data": {
      "text/html": [
       "<div>\n",
       "<style scoped>\n",
       "    .dataframe tbody tr th:only-of-type {\n",
       "        vertical-align: middle;\n",
       "    }\n",
       "\n",
       "    .dataframe tbody tr th {\n",
       "        vertical-align: top;\n",
       "    }\n",
       "\n",
       "    .dataframe thead th {\n",
       "        text-align: right;\n",
       "    }\n",
       "</style>\n",
       "<table border=\"1\" class=\"dataframe\">\n",
       "  <thead>\n",
       "    <tr style=\"text-align: right;\">\n",
       "      <th></th>\n",
       "      <th>Open</th>\n",
       "      <th>High</th>\n",
       "      <th>Low</th>\n",
       "      <th>Close</th>\n",
       "      <th>Adj Close</th>\n",
       "      <th>Volume</th>\n",
       "    </tr>\n",
       "  </thead>\n",
       "  <tbody>\n",
       "    <tr>\n",
       "      <th>count</th>\n",
       "      <td>6470.000000</td>\n",
       "      <td>6470.000000</td>\n",
       "      <td>6470.000000</td>\n",
       "      <td>6470.000000</td>\n",
       "      <td>6470.000000</td>\n",
       "      <td>6.470000e+03</td>\n",
       "    </tr>\n",
       "    <tr>\n",
       "      <th>mean</th>\n",
       "      <td>1436.882834</td>\n",
       "      <td>1455.178460</td>\n",
       "      <td>1417.056237</td>\n",
       "      <td>1435.489656</td>\n",
       "      <td>1357.605317</td>\n",
       "      <td>5.026074e+05</td>\n",
       "    </tr>\n",
       "    <tr>\n",
       "      <th>std</th>\n",
       "      <td>1350.857096</td>\n",
       "      <td>1364.906623</td>\n",
       "      <td>1334.368060</td>\n",
       "      <td>1348.724119</td>\n",
       "      <td>1322.310634</td>\n",
       "      <td>6.217924e+05</td>\n",
       "    </tr>\n",
       "    <tr>\n",
       "      <th>min</th>\n",
       "      <td>38.262501</td>\n",
       "      <td>38.887501</td>\n",
       "      <td>38.012501</td>\n",
       "      <td>38.849998</td>\n",
       "      <td>33.849991</td>\n",
       "      <td>0.000000e+00</td>\n",
       "    </tr>\n",
       "    <tr>\n",
       "      <th>25%</th>\n",
       "      <td>380.500000</td>\n",
       "      <td>387.137505</td>\n",
       "      <td>373.750000</td>\n",
       "      <td>380.018753</td>\n",
       "      <td>334.045029</td>\n",
       "      <td>2.052052e+05</td>\n",
       "    </tr>\n",
       "    <tr>\n",
       "      <th>50%</th>\n",
       "      <td>715.000000</td>\n",
       "      <td>726.250000</td>\n",
       "      <td>703.012512</td>\n",
       "      <td>713.575012</td>\n",
       "      <td>634.611420</td>\n",
       "      <td>3.461500e+05</td>\n",
       "    </tr>\n",
       "    <tr>\n",
       "      <th>75%</th>\n",
       "      <td>2465.000000</td>\n",
       "      <td>2498.737488</td>\n",
       "      <td>2433.612488</td>\n",
       "      <td>2464.612488</td>\n",
       "      <td>2357.904968</td>\n",
       "      <td>6.020460e+05</td>\n",
       "    </tr>\n",
       "    <tr>\n",
       "      <th>max</th>\n",
       "      <td>5580.000000</td>\n",
       "      <td>5614.600098</td>\n",
       "      <td>5531.950195</td>\n",
       "      <td>5575.700195</td>\n",
       "      <td>5524.790527</td>\n",
       "      <td>2.198708e+07</td>\n",
       "    </tr>\n",
       "  </tbody>\n",
       "</table>\n",
       "</div>"
      ],
      "text/plain": [
       "              Open         High  ...    Adj Close        Volume\n",
       "count  6470.000000  6470.000000  ...  6470.000000  6.470000e+03\n",
       "mean   1436.882834  1455.178460  ...  1357.605317  5.026074e+05\n",
       "std    1350.857096  1364.906623  ...  1322.310634  6.217924e+05\n",
       "min      38.262501    38.887501  ...    33.849991  0.000000e+00\n",
       "25%     380.500000   387.137505  ...   334.045029  2.052052e+05\n",
       "50%     715.000000   726.250000  ...   634.611420  3.461500e+05\n",
       "75%    2465.000000  2498.737488  ...  2357.904968  6.020460e+05\n",
       "max    5580.000000  5614.600098  ...  5524.790527  2.198708e+07\n",
       "\n",
       "[8 rows x 6 columns]"
      ]
     },
     "execution_count": 6,
     "metadata": {},
     "output_type": "execute_result"
    }
   ],
   "source": [
    "df.describe()"
   ]
  },
  {
   "cell_type": "code",
   "execution_count": null,
   "metadata": {
    "colab": {
     "base_uri": "https://localhost:8080/"
    },
    "id": "UZ2x7vznI9U-",
    "outputId": "2b472c8d-78e5-4e6a-fe26-690c8bee747c"
   },
   "outputs": [
    {
     "data": {
      "text/plain": [
       "Date         0\n",
       "Open         0\n",
       "High         0\n",
       "Low          0\n",
       "Close        0\n",
       "Adj Close    0\n",
       "Volume       0\n",
       "dtype: int64"
      ]
     },
     "execution_count": 7,
     "metadata": {},
     "output_type": "execute_result"
    }
   ],
   "source": [
    "df.isna().sum()"
   ]
  },
  {
   "cell_type": "code",
   "execution_count": null,
   "metadata": {
    "colab": {
     "base_uri": "https://localhost:8080/"
    },
    "id": "gs-1iJpNJAaT",
    "outputId": "5ae604e7-bff3-4c93-c3a9-974d8393e31c"
   },
   "outputs": [
    {
     "data": {
      "text/plain": [
       "Date         datetime64[ns]\n",
       "Open                float64\n",
       "High                float64\n",
       "Low                 float64\n",
       "Close               float64\n",
       "Adj Close           float64\n",
       "Volume                int64\n",
       "dtype: object"
      ]
     },
     "execution_count": 8,
     "metadata": {},
     "output_type": "execute_result"
    }
   ],
   "source": [
    "df.dtypes"
   ]
  },
  {
   "cell_type": "code",
   "execution_count": null,
   "metadata": {
    "colab": {
     "base_uri": "https://localhost:8080/"
    },
    "id": "nHDxqBodud73",
    "outputId": "a3a863e4-511f-450c-d810-d6499a84e1e1"
   },
   "outputs": [
    {
     "data": {
      "text/plain": [
       "Index(['Date', 'Open', 'High', 'Low', 'Close', 'Adj Close', 'Volume'], dtype='object')"
      ]
     },
     "execution_count": 9,
     "metadata": {},
     "output_type": "execute_result"
    }
   ],
   "source": [
    "df.columns"
   ]
  },
  {
   "cell_type": "code",
   "execution_count": null,
   "metadata": {
    "colab": {
     "base_uri": "https://localhost:8080/"
    },
    "id": "MIThqEBvL2YK",
    "outputId": "213db1cf-2ce1-42d2-f360-a609610abad0"
   },
   "outputs": [
    {
     "data": {
      "text/plain": [
       "DatetimeIndex(['2002-07-01', '2002-07-02', '2002-07-03', '2002-07-04',\n",
       "               '2002-07-05', '2002-07-06', '2002-07-07', '2002-07-08',\n",
       "               '2002-07-09', '2002-07-10',\n",
       "               ...\n",
       "               '2021-06-21', '2021-06-22', '2021-06-23', '2021-06-24',\n",
       "               '2021-06-25', '2021-06-26', '2021-06-27', '2021-06-28',\n",
       "               '2021-06-29', '2021-06-30'],\n",
       "              dtype='datetime64[ns]', length=6940, freq='D')"
      ]
     },
     "execution_count": 11,
     "metadata": {},
     "output_type": "execute_result"
    }
   ],
   "source": [
    "pd.date_range('2002-07-01', '2021-06-30')"
   ]
  },
  {
   "cell_type": "code",
   "execution_count": null,
   "metadata": {
    "colab": {
     "base_uri": "https://localhost:8080/"
    },
    "id": "macxz99CMZJj",
    "outputId": "822a3264-2416-483f-efa1-7bf75f4b0967"
   },
   "outputs": [
    {
     "data": {
      "text/plain": [
       "2002-07-01    True\n",
       "2002-07-02    True\n",
       "2002-07-03    True\n",
       "2002-07-04    True\n",
       "2002-07-05    True\n",
       "              ... \n",
       "2021-06-26    True\n",
       "2021-06-27    True\n",
       "2021-06-28    True\n",
       "2021-06-29    True\n",
       "2021-06-30    True\n",
       "Freq: D, Name: Date, Length: 6940, dtype: bool"
      ]
     },
     "execution_count": 12,
     "metadata": {},
     "output_type": "execute_result"
    }
   ],
   "source": [
    "df['Date'].reindex(pd.date_range('2002-07-01', '2021-06-30')).isnull()"
   ]
  },
  {
   "cell_type": "code",
   "execution_count": null,
   "metadata": {
    "colab": {
     "base_uri": "https://localhost:8080/",
     "height": 262
    },
    "id": "EwLAvqxVMgqD",
    "outputId": "cdf2c96e-5838-4d21-cd85-1edec792bd79"
   },
   "outputs": [
    {
     "data": {
      "text/plain": [
       "<matplotlib.axes._subplots.AxesSubplot at 0x7f6bf3405a50>"
      ]
     },
     "execution_count": 17,
     "metadata": {},
     "output_type": "execute_result"
    },
    {
     "data": {
      "image/png": "[encoded data removed]",
      "text/plain": [
       "<Figure size 3722.4x595.44 with 1 Axes>"
      ]
     },
     "metadata": {
      "needs_background": "light"
     },
     "output_type": "display_data"
    }
   ],
   "source": [
    "a4_dims = (51.7, 8.27)\n",
    "fig, ax = plt.subplots(figsize=a4_dims)\n",
    "sns.barplot(x='Date',y='Adj Close',data=df)"
   ]
  },
  {
   "cell_type": "code",
   "execution_count": null,
   "metadata": {
    "colab": {
     "base_uri": "https://localhost:8080/",
     "height": 296
    },
    "id": "8S87log_tLRf",
    "outputId": "ddfbd698-8a4b-4b4e-93ce-9cca178fd3ed"
   },
   "outputs": [
    {
     "data": {
      "text/plain": [
       "<matplotlib.axes._subplots.AxesSubplot at 0x7f6bdcc0c910>"
      ]
     },
     "execution_count": 25,
     "metadata": {},
     "output_type": "execute_result"
    },
    {
     "data": {
      "image/png": "[encoded data removed]",
      "text/plain": [
       "<Figure size 432x288 with 1 Axes>"
      ]
     },
     "metadata": {
      "needs_background": "light"
     },
     "output_type": "display_data"
    }
   ],
   "source": [
    "sns.boxplot(x=\"Adj Close\", data=df)"
   ]
  },
  {
   "cell_type": "markdown",
   "metadata": {
    "id": "HfWLWk0kQawA"
   },
   "source": [
    "The Facebook Prophet Model"
   ]
  },
  {
   "cell_type": "code",
   "execution_count": null,
   "metadata": {
    "colab": {
     "base_uri": "https://localhost:8080/"
    },
    "id": "g6HYllS7tszV",
    "outputId": "473668ab-e54a-4744-fe4f-7e04bbbe0250"
   },
   "outputs": [
    {
     "name": "stdout",
     "output_type": "stream",
     "text": [
      "Requirement already satisfied: prophet in /usr/local/lib/python3.7/dist-packages (1.0.1)\n",
      "Requirement already satisfied: tqdm>=4.36.1 in /usr/local/lib/python3.7/dist-packages (from prophet) (4.62.3)\n",
      "Requirement already satisfied: LunarCalendar>=0.0.9 in /usr/local/lib/python3.7/dist-packages (from prophet) (0.0.9)\n",
      "Requirement already satisfied: holidays>=0.10.2 in /usr/local/lib/python3.7/dist-packages (from prophet) (0.10.5.2)\n",
      "Requirement already satisfied: pystan~=2.19.1.1 in /usr/local/lib/python3.7/dist-packages (from prophet) (2.19.1.1)\n",
      "Requirement already satisfied: cmdstanpy==0.9.68 in /usr/local/lib/python3.7/dist-packages (from prophet) (0.9.68)\n",
      "Requirement already satisfied: pandas>=1.0.4 in /usr/local/lib/python3.7/dist-packages (from prophet) (1.1.5)\n",
      "Requirement already satisfied: Cython>=0.22 in /usr/local/lib/python3.7/dist-packages (from prophet) (0.29.24)\n",
      "Requirement already satisfied: python-dateutil>=2.8.0 in /usr/local/lib/python3.7/dist-packages (from prophet) (2.8.2)\n",
      "Requirement already satisfied: setuptools-git>=1.2 in /usr/local/lib/python3.7/dist-packages (from prophet) (1.2)\n",
      "Requirement already satisfied: convertdate>=2.1.2 in /usr/local/lib/python3.7/dist-packages (from prophet) (2.3.2)\n",
      "Requirement already satisfied: matplotlib>=2.0.0 in /usr/local/lib/python3.7/dist-packages (from prophet) (3.2.2)\n",
      "Requirement already satisfied: numpy>=1.15.4 in /usr/local/lib/python3.7/dist-packages (from prophet) (1.19.5)\n",
      "Requirement already satisfied: ujson in /usr/local/lib/python3.7/dist-packages (from cmdstanpy==0.9.68->prophet) (4.2.0)\n",
      "Requirement already satisfied: pytz>=2014.10 in /usr/local/lib/python3.7/dist-packages (from convertdate>=2.1.2->prophet) (2018.9)\n",
      "Requirement already satisfied: pymeeus<=1,>=0.3.13 in /usr/local/lib/python3.7/dist-packages (from convertdate>=2.1.2->prophet) (0.5.11)\n",
      "Requirement already satisfied: hijri-converter in /usr/local/lib/python3.7/dist-packages (from holidays>=0.10.2->prophet) (2.2.2)\n",
      "Requirement already satisfied: six in /usr/local/lib/python3.7/dist-packages (from holidays>=0.10.2->prophet) (1.15.0)\n",
      "Requirement already satisfied: korean-lunar-calendar in /usr/local/lib/python3.7/dist-packages (from holidays>=0.10.2->prophet) (0.2.1)\n",
      "Requirement already satisfied: ephem>=3.7.5.3 in /usr/local/lib/python3.7/dist-packages (from LunarCalendar>=0.0.9->prophet) (4.1)\n",
      "Requirement already satisfied: pyparsing!=2.0.4,!=2.1.2,!=2.1.6,>=2.0.1 in /usr/local/lib/python3.7/dist-packages (from matplotlib>=2.0.0->prophet) (2.4.7)\n",
      "Requirement already satisfied: cycler>=0.10 in /usr/local/lib/python3.7/dist-packages (from matplotlib>=2.0.0->prophet) (0.10.0)\n",
      "Requirement already satisfied: kiwisolver>=1.0.1 in /usr/local/lib/python3.7/dist-packages (from matplotlib>=2.0.0->prophet) (1.3.2)\n"
     ]
    }
   ],
   "source": [
    "pip install prophet"
   ]
  },
  {
   "cell_type": "code",
   "execution_count": null,
   "metadata": {
    "colab": {
     "base_uri": "https://localhost:8080/"
    },
    "id": "3Xifm1hRtw_4",
    "outputId": "3c67c3fc-204e-432e-9a31-8f05b72b8904"
   },
   "outputs": [
    {
     "data": {
      "text/plain": [
       "Date         datetime64[ns]\n",
       "Open                float64\n",
       "High                float64\n",
       "Low                 float64\n",
       "Close               float64\n",
       "Adj Close           float64\n",
       "Volume                int64\n",
       "dtype: object"
      ]
     },
     "execution_count": 32,
     "metadata": {},
     "output_type": "execute_result"
    }
   ],
   "source": [
    "df.dtypes"
   ]
  },
  {
   "cell_type": "code",
   "execution_count": null,
   "metadata": {
    "id": "gay-1Ua1uHub"
   },
   "outputs": [],
   "source": [
    "df_new = df[['Date','Adj Close']]"
   ]
  },
  {
   "cell_type": "code",
   "execution_count": null,
   "metadata": {
    "colab": {
     "base_uri": "https://localhost:8080/",
     "height": 203
    },
    "id": "sW0CmP1lCKxu",
    "outputId": "66a21a9e-2c85-40a2-d36e-978b4f33c29b"
   },
   "outputs": [
    {
     "data": {
      "text/html": [
       "<div>\n",
       "<style scoped>\n",
       "    .dataframe tbody tr th:only-of-type {\n",
       "        vertical-align: middle;\n",
       "    }\n",
       "\n",
       "    .dataframe tbody tr th {\n",
       "        vertical-align: top;\n",
       "    }\n",
       "\n",
       "    .dataframe thead th {\n",
       "        text-align: right;\n",
       "    }\n",
       "</style>\n",
       "<table border=\"1\" class=\"dataframe\">\n",
       "  <thead>\n",
       "    <tr style=\"text-align: right;\">\n",
       "      <th></th>\n",
       "      <th>Date</th>\n",
       "      <th>Adj Close</th>\n",
       "    </tr>\n",
       "  </thead>\n",
       "  <tbody>\n",
       "    <tr>\n",
       "      <th>0</th>\n",
       "      <td>1996-01-01</td>\n",
       "      <td>48.574959</td>\n",
       "    </tr>\n",
       "    <tr>\n",
       "      <th>1</th>\n",
       "      <td>1996-01-02</td>\n",
       "      <td>48.161095</td>\n",
       "    </tr>\n",
       "    <tr>\n",
       "      <th>2</th>\n",
       "      <td>1996-01-03</td>\n",
       "      <td>48.182877</td>\n",
       "    </tr>\n",
       "    <tr>\n",
       "      <th>3</th>\n",
       "      <td>1996-01-04</td>\n",
       "      <td>46.451168</td>\n",
       "    </tr>\n",
       "    <tr>\n",
       "      <th>4</th>\n",
       "      <td>1996-01-05</td>\n",
       "      <td>45.351154</td>\n",
       "    </tr>\n",
       "  </tbody>\n",
       "</table>\n",
       "</div>"
      ],
      "text/plain": [
       "        Date  Adj Close\n",
       "0 1996-01-01  48.574959\n",
       "1 1996-01-02  48.161095\n",
       "2 1996-01-03  48.182877\n",
       "3 1996-01-04  46.451168\n",
       "4 1996-01-05  45.351154"
      ]
     },
     "execution_count": 34,
     "metadata": {},
     "output_type": "execute_result"
    }
   ],
   "source": [
    "df_new.head()"
   ]
  },
  {
   "cell_type": "code",
   "execution_count": null,
   "metadata": {
    "colab": {
     "base_uri": "https://localhost:8080/"
    },
    "id": "B6YS5hMnCXB8",
    "outputId": "94da8ff9-85f0-44f2-9e0f-ae77a4a6fa91"
   },
   "outputs": [
    {
     "data": {
      "text/plain": [
       "ds    0\n",
       "y     0\n",
       "dtype: int64"
      ]
     },
     "execution_count": 35,
     "metadata": {},
     "output_type": "execute_result"
    }
   ],
   "source": [
    "df_new = df_new.rename(columns={'Date': 'ds','Adj Close':'y'})             \n",
    "df_new.isna().sum()"
   ]
  },
  {
   "cell_type": "code",
   "execution_count": null,
   "metadata": {
    "colab": {
     "base_uri": "https://localhost:8080/",
     "height": 286
    },
    "id": "Xz1Wcw1NCc-p",
    "outputId": "8495c3ef-e334-4b19-e8a5-d5712f9bb7b8"
   },
   "outputs": [
    {
     "data": {
      "text/plain": [
       "<matplotlib.axes._subplots.AxesSubplot at 0x7f6be1b16a90>"
      ]
     },
     "execution_count": 36,
     "metadata": {},
     "output_type": "execute_result"
    },
    {
     "data": {
      "image/png": "[encoded data removed]",
      "text/plain": [
       "<Figure size 432x288 with 1 Axes>"
      ]
     },
     "metadata": {
      "needs_background": "light"
     },
     "output_type": "display_data"
    }
   ],
   "source": [
    "df_new.plot(x='ds')"
   ]
  },
  {
   "cell_type": "code",
   "execution_count": null,
   "metadata": {
    "id": "8S0ZXG2zCfR9"
   },
   "outputs": [],
   "source": [
    "train=df_new[df_new['ds']<'2021-06-24']\n",
    "test=df_new[df_new['ds']>='2021-06-24']"
   ]
  },
  {
   "cell_type": "code",
   "execution_count": null,
   "metadata": {
    "colab": {
     "base_uri": "https://localhost:8080/",
     "height": 417
    },
    "id": "orez4a3kCuyk",
    "outputId": "6998ca3f-088a-4955-aaa6-b512d2b1b6fd"
   },
   "outputs": [
    {
     "data": {
      "text/html": [
       "<div>\n",
       "<style scoped>\n",
       "    .dataframe tbody tr th:only-of-type {\n",
       "        vertical-align: middle;\n",
       "    }\n",
       "\n",
       "    .dataframe tbody tr th {\n",
       "        vertical-align: top;\n",
       "    }\n",
       "\n",
       "    .dataframe thead th {\n",
       "        text-align: right;\n",
       "    }\n",
       "</style>\n",
       "<table border=\"1\" class=\"dataframe\">\n",
       "  <thead>\n",
       "    <tr style=\"text-align: right;\">\n",
       "      <th></th>\n",
       "      <th>ds</th>\n",
       "      <th>y</th>\n",
       "    </tr>\n",
       "  </thead>\n",
       "  <tbody>\n",
       "    <tr>\n",
       "      <th>6396</th>\n",
       "      <td>2021-06-24</td>\n",
       "      <td>5229.460938</td>\n",
       "    </tr>\n",
       "    <tr>\n",
       "      <th>6397</th>\n",
       "      <td>2021-06-25</td>\n",
       "      <td>5260.822266</td>\n",
       "    </tr>\n",
       "    <tr>\n",
       "      <th>6398</th>\n",
       "      <td>2021-06-28</td>\n",
       "      <td>5354.905273</td>\n",
       "    </tr>\n",
       "    <tr>\n",
       "      <th>6399</th>\n",
       "      <td>2021-06-29</td>\n",
       "      <td>5383.492188</td>\n",
       "    </tr>\n",
       "    <tr>\n",
       "      <th>6400</th>\n",
       "      <td>2021-06-30</td>\n",
       "      <td>5373.533691</td>\n",
       "    </tr>\n",
       "    <tr>\n",
       "      <th>...</th>\n",
       "      <td>...</td>\n",
       "      <td>...</td>\n",
       "    </tr>\n",
       "    <tr>\n",
       "      <th>6465</th>\n",
       "      <td>2021-10-04</td>\n",
       "      <td>5042.700195</td>\n",
       "    </tr>\n",
       "    <tr>\n",
       "      <th>6466</th>\n",
       "      <td>2021-10-05</td>\n",
       "      <td>5034.600098</td>\n",
       "    </tr>\n",
       "    <tr>\n",
       "      <th>6467</th>\n",
       "      <td>2021-10-06</td>\n",
       "      <td>4956.600098</td>\n",
       "    </tr>\n",
       "    <tr>\n",
       "      <th>6468</th>\n",
       "      <td>2021-10-07</td>\n",
       "      <td>4891.100098</td>\n",
       "    </tr>\n",
       "    <tr>\n",
       "      <th>6469</th>\n",
       "      <td>2021-10-08</td>\n",
       "      <td>4849.200195</td>\n",
       "    </tr>\n",
       "  </tbody>\n",
       "</table>\n",
       "<p>74 rows × 2 columns</p>\n",
       "</div>"
      ],
      "text/plain": [
       "             ds            y\n",
       "6396 2021-06-24  5229.460938\n",
       "6397 2021-06-25  5260.822266\n",
       "6398 2021-06-28  5354.905273\n",
       "6399 2021-06-29  5383.492188\n",
       "6400 2021-06-30  5373.533691\n",
       "...         ...          ...\n",
       "6465 2021-10-04  5042.700195\n",
       "6466 2021-10-05  5034.600098\n",
       "6467 2021-10-06  4956.600098\n",
       "6468 2021-10-07  4891.100098\n",
       "6469 2021-10-08  4849.200195\n",
       "\n",
       "[74 rows x 2 columns]"
      ]
     },
     "execution_count": 38,
     "metadata": {},
     "output_type": "execute_result"
    }
   ],
   "source": [
    "test"
   ]
  },
  {
   "cell_type": "code",
   "execution_count": null,
   "metadata": {
    "colab": {
     "base_uri": "https://localhost:8080/"
    },
    "id": "A3gglVRiCwmR",
    "outputId": "989b01ec-32af-4cf2-86d6-542c44dad93a"
   },
   "outputs": [
    {
     "name": "stderr",
     "output_type": "stream",
     "text": [
      "INFO:fbprophet:Disabling daily seasonality. Run prophet with daily_seasonality=True to override this.\n",
      "/usr/local/lib/python3.7/dist-packages/fbprophet/hdays.py:259: Warning:\n",
      "\n",
      "We only support Diwali and Holi holidays from 2010 to 2030\n",
      "\n"
     ]
    },
    {
     "data": {
      "text/plain": [
       "<fbprophet.forecaster.Prophet at 0x7f6be185e310>"
      ]
     },
     "execution_count": 39,
     "metadata": {},
     "output_type": "execute_result"
    }
   ],
   "source": [
    "from fbprophet import Prophet\n",
    "model1=Prophet()\n",
    "model1.add_country_holidays(country_name='IN')\n",
    "model1.fit(train)"
   ]
  },
  {
   "cell_type": "code",
   "execution_count": null,
   "metadata": {
    "colab": {
     "base_uri": "https://localhost:8080/",
     "height": 575
    },
    "id": "7G8LCB5ECyX4",
    "outputId": "53756e8e-d544-4ada-aff0-7ca6df9f48e6"
   },
   "outputs": [
    {
     "name": "stderr",
     "output_type": "stream",
     "text": [
      "/usr/local/lib/python3.7/dist-packages/fbprophet/hdays.py:259: Warning:\n",
      "\n",
      "We only support Diwali and Holi holidays from 2010 to 2030\n",
      "\n",
      "/usr/local/lib/python3.7/dist-packages/fbprophet/hdays.py:259: Warning:\n",
      "\n",
      "We only support Diwali and Holi holidays from 2010 to 2030\n",
      "\n"
     ]
    },
    {
     "data": {
      "image/png": "[encoded data removed]",
      "text/plain": [
       "<Figure size 720x432 with 1 Axes>"
      ]
     },
     "metadata": {},
     "output_type": "display_data"
    }
   ],
   "source": [
    "future = model1.make_future_dataframe(periods=19)\n",
    "\n",
    "fcst = model1.predict(future)\n",
    "fig = model1.plot(fcst)"
   ]
  },
  {
   "cell_type": "code",
   "execution_count": null,
   "metadata": {
    "colab": {
     "base_uri": "https://localhost:8080/",
     "height": 386
    },
    "id": "wlvEVooeC1k3",
    "outputId": "469e46f4-9903-4339-b6d3-554a524eaa95"
   },
   "outputs": [
    {
     "data": {
      "text/html": [
       "<div>\n",
       "<style scoped>\n",
       "    .dataframe tbody tr th:only-of-type {\n",
       "        vertical-align: middle;\n",
       "    }\n",
       "\n",
       "    .dataframe tbody tr th {\n",
       "        vertical-align: top;\n",
       "    }\n",
       "\n",
       "    .dataframe thead th {\n",
       "        text-align: right;\n",
       "    }\n",
       "</style>\n",
       "<table border=\"1\" class=\"dataframe\">\n",
       "  <thead>\n",
       "    <tr style=\"text-align: right;\">\n",
       "      <th></th>\n",
       "      <th>ds</th>\n",
       "      <th>trend</th>\n",
       "      <th>yhat_lower</th>\n",
       "      <th>yhat_upper</th>\n",
       "      <th>trend_lower</th>\n",
       "      <th>trend_upper</th>\n",
       "      <th>All Saints Day</th>\n",
       "      <th>All Saints Day_lower</th>\n",
       "      <th>All Saints Day_upper</th>\n",
       "      <th>All Souls Day</th>\n",
       "      <th>All Souls Day_lower</th>\n",
       "      <th>All Souls Day_upper</th>\n",
       "      <th>Boxing Day</th>\n",
       "      <th>Boxing Day_lower</th>\n",
       "      <th>Boxing Day_upper</th>\n",
       "      <th>Christmas Day</th>\n",
       "      <th>Christmas Day_lower</th>\n",
       "      <th>Christmas Day_upper</th>\n",
       "      <th>Day of Ashura</th>\n",
       "      <th>Day of Ashura_lower</th>\n",
       "      <th>Day of Ashura_upper</th>\n",
       "      <th>Diwali</th>\n",
       "      <th>Diwali_lower</th>\n",
       "      <th>Diwali_upper</th>\n",
       "      <th>Easter Sunday</th>\n",
       "      <th>Easter Sunday_lower</th>\n",
       "      <th>Easter Sunday_upper</th>\n",
       "      <th>Eid al-Fitr</th>\n",
       "      <th>Eid al-Fitr_lower</th>\n",
       "      <th>Eid al-Fitr_upper</th>\n",
       "      <th>Feast of Holy Family</th>\n",
       "      <th>Feast of Holy Family_lower</th>\n",
       "      <th>Feast of Holy Family_upper</th>\n",
       "      <th>Feast of Pentecost</th>\n",
       "      <th>Feast of Pentecost_lower</th>\n",
       "      <th>Feast of Pentecost_upper</th>\n",
       "      <th>Feast of the Blessed Virgin</th>\n",
       "      <th>Feast of the Blessed Virgin_lower</th>\n",
       "      <th>Feast of the Blessed Virgin_upper</th>\n",
       "      <th>Feast of the Sacrifice</th>\n",
       "      <th>...</th>\n",
       "      <th>Good Friday</th>\n",
       "      <th>Good Friday_lower</th>\n",
       "      <th>Good Friday_upper</th>\n",
       "      <th>Holi</th>\n",
       "      <th>Holi_lower</th>\n",
       "      <th>Holi_upper</th>\n",
       "      <th>Independence Day</th>\n",
       "      <th>Independence Day_lower</th>\n",
       "      <th>Independence Day_upper</th>\n",
       "      <th>Maundy Thursday</th>\n",
       "      <th>Maundy Thursday_lower</th>\n",
       "      <th>Maundy Thursday_upper</th>\n",
       "      <th>Mawlid</th>\n",
       "      <th>Mawlid_lower</th>\n",
       "      <th>Mawlid_upper</th>\n",
       "      <th>New Year's Day</th>\n",
       "      <th>New Year's Day_lower</th>\n",
       "      <th>New Year's Day_upper</th>\n",
       "      <th>Palm Sunday</th>\n",
       "      <th>Palm Sunday_lower</th>\n",
       "      <th>Palm Sunday_upper</th>\n",
       "      <th>Republic Day</th>\n",
       "      <th>Republic Day_lower</th>\n",
       "      <th>Republic Day_upper</th>\n",
       "      <th>additive_terms</th>\n",
       "      <th>additive_terms_lower</th>\n",
       "      <th>additive_terms_upper</th>\n",
       "      <th>holidays</th>\n",
       "      <th>holidays_lower</th>\n",
       "      <th>holidays_upper</th>\n",
       "      <th>weekly</th>\n",
       "      <th>weekly_lower</th>\n",
       "      <th>weekly_upper</th>\n",
       "      <th>yearly</th>\n",
       "      <th>yearly_lower</th>\n",
       "      <th>yearly_upper</th>\n",
       "      <th>multiplicative_terms</th>\n",
       "      <th>multiplicative_terms_lower</th>\n",
       "      <th>multiplicative_terms_upper</th>\n",
       "      <th>yhat</th>\n",
       "    </tr>\n",
       "  </thead>\n",
       "  <tbody>\n",
       "    <tr>\n",
       "      <th>0</th>\n",
       "      <td>1996-01-01</td>\n",
       "      <td>8.935060</td>\n",
       "      <td>-453.203073</td>\n",
       "      <td>416.549819</td>\n",
       "      <td>8.935060</td>\n",
       "      <td>8.935060</td>\n",
       "      <td>0.0</td>\n",
       "      <td>0.0</td>\n",
       "      <td>0.0</td>\n",
       "      <td>0.0</td>\n",
       "      <td>0.0</td>\n",
       "      <td>0.0</td>\n",
       "      <td>0.0</td>\n",
       "      <td>0.0</td>\n",
       "      <td>0.0</td>\n",
       "      <td>0.0</td>\n",
       "      <td>0.0</td>\n",
       "      <td>0.0</td>\n",
       "      <td>0.0</td>\n",
       "      <td>0.0</td>\n",
       "      <td>0.0</td>\n",
       "      <td>0.0</td>\n",
       "      <td>0.0</td>\n",
       "      <td>0.0</td>\n",
       "      <td>0.0</td>\n",
       "      <td>0.0</td>\n",
       "      <td>0.0</td>\n",
       "      <td>0.0</td>\n",
       "      <td>0.0</td>\n",
       "      <td>0.0</td>\n",
       "      <td>0.0</td>\n",
       "      <td>0.0</td>\n",
       "      <td>0.0</td>\n",
       "      <td>0.0</td>\n",
       "      <td>0.0</td>\n",
       "      <td>0.0</td>\n",
       "      <td>0.0</td>\n",
       "      <td>0.0</td>\n",
       "      <td>0.0</td>\n",
       "      <td>0.0</td>\n",
       "      <td>...</td>\n",
       "      <td>0.0</td>\n",
       "      <td>0.0</td>\n",
       "      <td>0.0</td>\n",
       "      <td>0.0</td>\n",
       "      <td>0.0</td>\n",
       "      <td>0.0</td>\n",
       "      <td>0.0</td>\n",
       "      <td>0.0</td>\n",
       "      <td>0.0</td>\n",
       "      <td>0.0</td>\n",
       "      <td>0.0</td>\n",
       "      <td>0.0</td>\n",
       "      <td>0.0</td>\n",
       "      <td>0.0</td>\n",
       "      <td>0.0</td>\n",
       "      <td>-21.082198</td>\n",
       "      <td>-21.082198</td>\n",
       "      <td>-21.082198</td>\n",
       "      <td>0.0</td>\n",
       "      <td>0.0</td>\n",
       "      <td>0.0</td>\n",
       "      <td>0.0</td>\n",
       "      <td>0.0</td>\n",
       "      <td>0.0</td>\n",
       "      <td>-7.119854</td>\n",
       "      <td>-7.119854</td>\n",
       "      <td>-7.119854</td>\n",
       "      <td>-21.082198</td>\n",
       "      <td>-21.082198</td>\n",
       "      <td>-21.082198</td>\n",
       "      <td>-9.754183</td>\n",
       "      <td>-9.754183</td>\n",
       "      <td>-9.754183</td>\n",
       "      <td>23.716527</td>\n",
       "      <td>23.716527</td>\n",
       "      <td>23.716527</td>\n",
       "      <td>0.0</td>\n",
       "      <td>0.0</td>\n",
       "      <td>0.0</td>\n",
       "      <td>1.815206</td>\n",
       "    </tr>\n",
       "    <tr>\n",
       "      <th>1</th>\n",
       "      <td>1996-01-02</td>\n",
       "      <td>9.079257</td>\n",
       "      <td>-385.560817</td>\n",
       "      <td>451.281703</td>\n",
       "      <td>9.079257</td>\n",
       "      <td>9.079257</td>\n",
       "      <td>0.0</td>\n",
       "      <td>0.0</td>\n",
       "      <td>0.0</td>\n",
       "      <td>0.0</td>\n",
       "      <td>0.0</td>\n",
       "      <td>0.0</td>\n",
       "      <td>0.0</td>\n",
       "      <td>0.0</td>\n",
       "      <td>0.0</td>\n",
       "      <td>0.0</td>\n",
       "      <td>0.0</td>\n",
       "      <td>0.0</td>\n",
       "      <td>0.0</td>\n",
       "      <td>0.0</td>\n",
       "      <td>0.0</td>\n",
       "      <td>0.0</td>\n",
       "      <td>0.0</td>\n",
       "      <td>0.0</td>\n",
       "      <td>0.0</td>\n",
       "      <td>0.0</td>\n",
       "      <td>0.0</td>\n",
       "      <td>0.0</td>\n",
       "      <td>0.0</td>\n",
       "      <td>0.0</td>\n",
       "      <td>0.0</td>\n",
       "      <td>0.0</td>\n",
       "      <td>0.0</td>\n",
       "      <td>0.0</td>\n",
       "      <td>0.0</td>\n",
       "      <td>0.0</td>\n",
       "      <td>0.0</td>\n",
       "      <td>0.0</td>\n",
       "      <td>0.0</td>\n",
       "      <td>0.0</td>\n",
       "      <td>...</td>\n",
       "      <td>0.0</td>\n",
       "      <td>0.0</td>\n",
       "      <td>0.0</td>\n",
       "      <td>0.0</td>\n",
       "      <td>0.0</td>\n",
       "      <td>0.0</td>\n",
       "      <td>0.0</td>\n",
       "      <td>0.0</td>\n",
       "      <td>0.0</td>\n",
       "      <td>0.0</td>\n",
       "      <td>0.0</td>\n",
       "      <td>0.0</td>\n",
       "      <td>0.0</td>\n",
       "      <td>0.0</td>\n",
       "      <td>0.0</td>\n",
       "      <td>0.000000</td>\n",
       "      <td>0.000000</td>\n",
       "      <td>0.000000</td>\n",
       "      <td>0.0</td>\n",
       "      <td>0.0</td>\n",
       "      <td>0.0</td>\n",
       "      <td>0.0</td>\n",
       "      <td>0.0</td>\n",
       "      <td>0.0</td>\n",
       "      <td>18.076495</td>\n",
       "      <td>18.076495</td>\n",
       "      <td>18.076495</td>\n",
       "      <td>0.000000</td>\n",
       "      <td>0.000000</td>\n",
       "      <td>0.000000</td>\n",
       "      <td>-6.595192</td>\n",
       "      <td>-6.595192</td>\n",
       "      <td>-6.595192</td>\n",
       "      <td>24.671687</td>\n",
       "      <td>24.671687</td>\n",
       "      <td>24.671687</td>\n",
       "      <td>0.0</td>\n",
       "      <td>0.0</td>\n",
       "      <td>0.0</td>\n",
       "      <td>27.155752</td>\n",
       "    </tr>\n",
       "    <tr>\n",
       "      <th>2</th>\n",
       "      <td>1996-01-03</td>\n",
       "      <td>9.223454</td>\n",
       "      <td>-404.863832</td>\n",
       "      <td>463.489315</td>\n",
       "      <td>9.223454</td>\n",
       "      <td>9.223454</td>\n",
       "      <td>0.0</td>\n",
       "      <td>0.0</td>\n",
       "      <td>0.0</td>\n",
       "      <td>0.0</td>\n",
       "      <td>0.0</td>\n",
       "      <td>0.0</td>\n",
       "      <td>0.0</td>\n",
       "      <td>0.0</td>\n",
       "      <td>0.0</td>\n",
       "      <td>0.0</td>\n",
       "      <td>0.0</td>\n",
       "      <td>0.0</td>\n",
       "      <td>0.0</td>\n",
       "      <td>0.0</td>\n",
       "      <td>0.0</td>\n",
       "      <td>0.0</td>\n",
       "      <td>0.0</td>\n",
       "      <td>0.0</td>\n",
       "      <td>0.0</td>\n",
       "      <td>0.0</td>\n",
       "      <td>0.0</td>\n",
       "      <td>0.0</td>\n",
       "      <td>0.0</td>\n",
       "      <td>0.0</td>\n",
       "      <td>0.0</td>\n",
       "      <td>0.0</td>\n",
       "      <td>0.0</td>\n",
       "      <td>0.0</td>\n",
       "      <td>0.0</td>\n",
       "      <td>0.0</td>\n",
       "      <td>0.0</td>\n",
       "      <td>0.0</td>\n",
       "      <td>0.0</td>\n",
       "      <td>0.0</td>\n",
       "      <td>...</td>\n",
       "      <td>0.0</td>\n",
       "      <td>0.0</td>\n",
       "      <td>0.0</td>\n",
       "      <td>0.0</td>\n",
       "      <td>0.0</td>\n",
       "      <td>0.0</td>\n",
       "      <td>0.0</td>\n",
       "      <td>0.0</td>\n",
       "      <td>0.0</td>\n",
       "      <td>0.0</td>\n",
       "      <td>0.0</td>\n",
       "      <td>0.0</td>\n",
       "      <td>0.0</td>\n",
       "      <td>0.0</td>\n",
       "      <td>0.0</td>\n",
       "      <td>0.000000</td>\n",
       "      <td>0.000000</td>\n",
       "      <td>0.000000</td>\n",
       "      <td>0.0</td>\n",
       "      <td>0.0</td>\n",
       "      <td>0.0</td>\n",
       "      <td>0.0</td>\n",
       "      <td>0.0</td>\n",
       "      <td>0.0</td>\n",
       "      <td>19.027506</td>\n",
       "      <td>19.027506</td>\n",
       "      <td>19.027506</td>\n",
       "      <td>0.000000</td>\n",
       "      <td>0.000000</td>\n",
       "      <td>0.000000</td>\n",
       "      <td>-6.642026</td>\n",
       "      <td>-6.642026</td>\n",
       "      <td>-6.642026</td>\n",
       "      <td>25.669532</td>\n",
       "      <td>25.669532</td>\n",
       "      <td>25.669532</td>\n",
       "      <td>0.0</td>\n",
       "      <td>0.0</td>\n",
       "      <td>0.0</td>\n",
       "      <td>28.250960</td>\n",
       "    </tr>\n",
       "    <tr>\n",
       "      <th>3</th>\n",
       "      <td>1996-01-04</td>\n",
       "      <td>9.367651</td>\n",
       "      <td>-410.739236</td>\n",
       "      <td>461.120699</td>\n",
       "      <td>9.367651</td>\n",
       "      <td>9.367651</td>\n",
       "      <td>0.0</td>\n",
       "      <td>0.0</td>\n",
       "      <td>0.0</td>\n",
       "      <td>0.0</td>\n",
       "      <td>0.0</td>\n",
       "      <td>0.0</td>\n",
       "      <td>0.0</td>\n",
       "      <td>0.0</td>\n",
       "      <td>0.0</td>\n",
       "      <td>0.0</td>\n",
       "      <td>0.0</td>\n",
       "      <td>0.0</td>\n",
       "      <td>0.0</td>\n",
       "      <td>0.0</td>\n",
       "      <td>0.0</td>\n",
       "      <td>0.0</td>\n",
       "      <td>0.0</td>\n",
       "      <td>0.0</td>\n",
       "      <td>0.0</td>\n",
       "      <td>0.0</td>\n",
       "      <td>0.0</td>\n",
       "      <td>0.0</td>\n",
       "      <td>0.0</td>\n",
       "      <td>0.0</td>\n",
       "      <td>0.0</td>\n",
       "      <td>0.0</td>\n",
       "      <td>0.0</td>\n",
       "      <td>0.0</td>\n",
       "      <td>0.0</td>\n",
       "      <td>0.0</td>\n",
       "      <td>0.0</td>\n",
       "      <td>0.0</td>\n",
       "      <td>0.0</td>\n",
       "      <td>0.0</td>\n",
       "      <td>...</td>\n",
       "      <td>0.0</td>\n",
       "      <td>0.0</td>\n",
       "      <td>0.0</td>\n",
       "      <td>0.0</td>\n",
       "      <td>0.0</td>\n",
       "      <td>0.0</td>\n",
       "      <td>0.0</td>\n",
       "      <td>0.0</td>\n",
       "      <td>0.0</td>\n",
       "      <td>0.0</td>\n",
       "      <td>0.0</td>\n",
       "      <td>0.0</td>\n",
       "      <td>0.0</td>\n",
       "      <td>0.0</td>\n",
       "      <td>0.0</td>\n",
       "      <td>0.000000</td>\n",
       "      <td>0.000000</td>\n",
       "      <td>0.000000</td>\n",
       "      <td>0.0</td>\n",
       "      <td>0.0</td>\n",
       "      <td>0.0</td>\n",
       "      <td>0.0</td>\n",
       "      <td>0.0</td>\n",
       "      <td>0.0</td>\n",
       "      <td>19.440734</td>\n",
       "      <td>19.440734</td>\n",
       "      <td>19.440734</td>\n",
       "      <td>0.000000</td>\n",
       "      <td>0.000000</td>\n",
       "      <td>0.000000</td>\n",
       "      <td>-7.237635</td>\n",
       "      <td>-7.237635</td>\n",
       "      <td>-7.237635</td>\n",
       "      <td>26.678369</td>\n",
       "      <td>26.678369</td>\n",
       "      <td>26.678369</td>\n",
       "      <td>0.0</td>\n",
       "      <td>0.0</td>\n",
       "      <td>0.0</td>\n",
       "      <td>28.808385</td>\n",
       "    </tr>\n",
       "    <tr>\n",
       "      <th>4</th>\n",
       "      <td>1996-01-05</td>\n",
       "      <td>9.511848</td>\n",
       "      <td>-412.593110</td>\n",
       "      <td>494.522810</td>\n",
       "      <td>9.511848</td>\n",
       "      <td>9.511848</td>\n",
       "      <td>0.0</td>\n",
       "      <td>0.0</td>\n",
       "      <td>0.0</td>\n",
       "      <td>0.0</td>\n",
       "      <td>0.0</td>\n",
       "      <td>0.0</td>\n",
       "      <td>0.0</td>\n",
       "      <td>0.0</td>\n",
       "      <td>0.0</td>\n",
       "      <td>0.0</td>\n",
       "      <td>0.0</td>\n",
       "      <td>0.0</td>\n",
       "      <td>0.0</td>\n",
       "      <td>0.0</td>\n",
       "      <td>0.0</td>\n",
       "      <td>0.0</td>\n",
       "      <td>0.0</td>\n",
       "      <td>0.0</td>\n",
       "      <td>0.0</td>\n",
       "      <td>0.0</td>\n",
       "      <td>0.0</td>\n",
       "      <td>0.0</td>\n",
       "      <td>0.0</td>\n",
       "      <td>0.0</td>\n",
       "      <td>0.0</td>\n",
       "      <td>0.0</td>\n",
       "      <td>0.0</td>\n",
       "      <td>0.0</td>\n",
       "      <td>0.0</td>\n",
       "      <td>0.0</td>\n",
       "      <td>0.0</td>\n",
       "      <td>0.0</td>\n",
       "      <td>0.0</td>\n",
       "      <td>0.0</td>\n",
       "      <td>...</td>\n",
       "      <td>0.0</td>\n",
       "      <td>0.0</td>\n",
       "      <td>0.0</td>\n",
       "      <td>0.0</td>\n",
       "      <td>0.0</td>\n",
       "      <td>0.0</td>\n",
       "      <td>0.0</td>\n",
       "      <td>0.0</td>\n",
       "      <td>0.0</td>\n",
       "      <td>0.0</td>\n",
       "      <td>0.0</td>\n",
       "      <td>0.0</td>\n",
       "      <td>0.0</td>\n",
       "      <td>0.0</td>\n",
       "      <td>0.0</td>\n",
       "      <td>0.000000</td>\n",
       "      <td>0.000000</td>\n",
       "      <td>0.000000</td>\n",
       "      <td>0.0</td>\n",
       "      <td>0.0</td>\n",
       "      <td>0.0</td>\n",
       "      <td>0.0</td>\n",
       "      <td>0.0</td>\n",
       "      <td>0.0</td>\n",
       "      <td>18.631502</td>\n",
       "      <td>18.631502</td>\n",
       "      <td>18.631502</td>\n",
       "      <td>0.000000</td>\n",
       "      <td>0.000000</td>\n",
       "      <td>0.000000</td>\n",
       "      <td>-9.032618</td>\n",
       "      <td>-9.032618</td>\n",
       "      <td>-9.032618</td>\n",
       "      <td>27.664119</td>\n",
       "      <td>27.664119</td>\n",
       "      <td>27.664119</td>\n",
       "      <td>0.0</td>\n",
       "      <td>0.0</td>\n",
       "      <td>0.0</td>\n",
       "      <td>28.143349</td>\n",
       "    </tr>\n",
       "  </tbody>\n",
       "</table>\n",
       "<p>5 rows × 88 columns</p>\n",
       "</div>"
      ],
      "text/plain": [
       "          ds     trend  ...  multiplicative_terms_upper       yhat\n",
       "0 1996-01-01  8.935060  ...                         0.0   1.815206\n",
       "1 1996-01-02  9.079257  ...                         0.0  27.155752\n",
       "2 1996-01-03  9.223454  ...                         0.0  28.250960\n",
       "3 1996-01-04  9.367651  ...                         0.0  28.808385\n",
       "4 1996-01-05  9.511848  ...                         0.0  28.143349\n",
       "\n",
       "[5 rows x 88 columns]"
      ]
     },
     "execution_count": 41,
     "metadata": {},
     "output_type": "execute_result"
    }
   ],
   "source": [
    "fcst.head()"
   ]
  },
  {
   "cell_type": "code",
   "execution_count": null,
   "metadata": {
    "colab": {
     "base_uri": "https://localhost:8080/",
     "height": 769
    },
    "id": "rd5hzpOtC5BF",
    "outputId": "abc20f46-a59d-4ac0-9c5e-fc82c4c0706f"
   },
   "outputs": [
    {
     "name": "stderr",
     "output_type": "stream",
     "text": [
      "/usr/local/lib/python3.7/dist-packages/fbprophet/hdays.py:259: Warning:\n",
      "\n",
      "We only support Diwali and Holi holidays from 2010 to 2030\n",
      "\n",
      "/usr/local/lib/python3.7/dist-packages/fbprophet/hdays.py:259: Warning:\n",
      "\n",
      "We only support Diwali and Holi holidays from 2010 to 2030\n",
      "\n"
     ]
    },
    {
     "data": {
      "text/html": [
       "<div>\n",
       "<style scoped>\n",
       "    .dataframe tbody tr th:only-of-type {\n",
       "        vertical-align: middle;\n",
       "    }\n",
       "\n",
       "    .dataframe tbody tr th {\n",
       "        vertical-align: top;\n",
       "    }\n",
       "\n",
       "    .dataframe thead th {\n",
       "        text-align: right;\n",
       "    }\n",
       "</style>\n",
       "<table border=\"1\" class=\"dataframe\">\n",
       "  <thead>\n",
       "    <tr style=\"text-align: right;\">\n",
       "      <th></th>\n",
       "      <th>ds</th>\n",
       "      <th>yhat</th>\n",
       "      <th>yhat_lower</th>\n",
       "      <th>yhat_upper</th>\n",
       "    </tr>\n",
       "  </thead>\n",
       "  <tbody>\n",
       "    <tr>\n",
       "      <th>6396</th>\n",
       "      <td>2021-06-24</td>\n",
       "      <td>3982.199166</td>\n",
       "      <td>3536.688284</td>\n",
       "      <td>4442.281961</td>\n",
       "    </tr>\n",
       "    <tr>\n",
       "      <th>6397</th>\n",
       "      <td>2021-06-25</td>\n",
       "      <td>3980.508552</td>\n",
       "      <td>3535.240246</td>\n",
       "      <td>4419.137858</td>\n",
       "    </tr>\n",
       "    <tr>\n",
       "      <th>6398</th>\n",
       "      <td>2021-06-26</td>\n",
       "      <td>4009.554213</td>\n",
       "      <td>3546.659279</td>\n",
       "      <td>4474.520291</td>\n",
       "    </tr>\n",
       "    <tr>\n",
       "      <th>6399</th>\n",
       "      <td>2021-06-27</td>\n",
       "      <td>4010.229619</td>\n",
       "      <td>3550.351572</td>\n",
       "      <td>4459.554625</td>\n",
       "    </tr>\n",
       "    <tr>\n",
       "      <th>6400</th>\n",
       "      <td>2021-06-28</td>\n",
       "      <td>3981.821308</td>\n",
       "      <td>3543.258116</td>\n",
       "      <td>4446.425996</td>\n",
       "    </tr>\n",
       "    <tr>\n",
       "      <th>6401</th>\n",
       "      <td>2021-06-29</td>\n",
       "      <td>3986.258892</td>\n",
       "      <td>3545.989775</td>\n",
       "      <td>4438.923759</td>\n",
       "    </tr>\n",
       "    <tr>\n",
       "      <th>6402</th>\n",
       "      <td>2021-06-30</td>\n",
       "      <td>3987.785731</td>\n",
       "      <td>3521.893889</td>\n",
       "      <td>4431.178105</td>\n",
       "    </tr>\n",
       "    <tr>\n",
       "      <th>6403</th>\n",
       "      <td>2021-07-01</td>\n",
       "      <td>3989.044826</td>\n",
       "      <td>3543.731900</td>\n",
       "      <td>4416.124547</td>\n",
       "    </tr>\n",
       "    <tr>\n",
       "      <th>6404</th>\n",
       "      <td>2021-07-02</td>\n",
       "      <td>3989.364710</td>\n",
       "      <td>3557.071864</td>\n",
       "      <td>4419.408502</td>\n",
       "    </tr>\n",
       "    <tr>\n",
       "      <th>6405</th>\n",
       "      <td>2021-07-03</td>\n",
       "      <td>4020.376080</td>\n",
       "      <td>3584.699665</td>\n",
       "      <td>4450.834728</td>\n",
       "    </tr>\n",
       "    <tr>\n",
       "      <th>6406</th>\n",
       "      <td>2021-07-04</td>\n",
       "      <td>4022.924440</td>\n",
       "      <td>3562.154416</td>\n",
       "      <td>4456.401851</td>\n",
       "    </tr>\n",
       "    <tr>\n",
       "      <th>6407</th>\n",
       "      <td>2021-07-05</td>\n",
       "      <td>3996.251025</td>\n",
       "      <td>3550.051489</td>\n",
       "      <td>4447.060411</td>\n",
       "    </tr>\n",
       "    <tr>\n",
       "      <th>6408</th>\n",
       "      <td>2021-07-06</td>\n",
       "      <td>4002.243981</td>\n",
       "      <td>3508.201610</td>\n",
       "      <td>4491.914446</td>\n",
       "    </tr>\n",
       "    <tr>\n",
       "      <th>6409</th>\n",
       "      <td>2021-07-07</td>\n",
       "      <td>4005.110100</td>\n",
       "      <td>3542.538628</td>\n",
       "      <td>4431.756884</td>\n",
       "    </tr>\n",
       "    <tr>\n",
       "      <th>6410</th>\n",
       "      <td>2021-07-08</td>\n",
       "      <td>4007.461640</td>\n",
       "      <td>3561.955978</td>\n",
       "      <td>4505.778248</td>\n",
       "    </tr>\n",
       "    <tr>\n",
       "      <th>6411</th>\n",
       "      <td>2021-07-09</td>\n",
       "      <td>4008.602970</td>\n",
       "      <td>3566.572662</td>\n",
       "      <td>4474.154598</td>\n",
       "    </tr>\n",
       "    <tr>\n",
       "      <th>6412</th>\n",
       "      <td>2021-07-10</td>\n",
       "      <td>4040.147776</td>\n",
       "      <td>3593.211174</td>\n",
       "      <td>4473.112889</td>\n",
       "    </tr>\n",
       "    <tr>\n",
       "      <th>6413</th>\n",
       "      <td>2021-07-11</td>\n",
       "      <td>4042.932085</td>\n",
       "      <td>3619.145495</td>\n",
       "      <td>4494.720004</td>\n",
       "    </tr>\n",
       "    <tr>\n",
       "      <th>6414</th>\n",
       "      <td>2021-07-12</td>\n",
       "      <td>4016.195344</td>\n",
       "      <td>3554.820346</td>\n",
       "      <td>4447.673700</td>\n",
       "    </tr>\n",
       "  </tbody>\n",
       "</table>\n",
       "</div>"
      ],
      "text/plain": [
       "             ds         yhat   yhat_lower   yhat_upper\n",
       "6396 2021-06-24  3982.199166  3536.688284  4442.281961\n",
       "6397 2021-06-25  3980.508552  3535.240246  4419.137858\n",
       "6398 2021-06-26  4009.554213  3546.659279  4474.520291\n",
       "6399 2021-06-27  4010.229619  3550.351572  4459.554625\n",
       "6400 2021-06-28  3981.821308  3543.258116  4446.425996\n",
       "6401 2021-06-29  3986.258892  3545.989775  4438.923759\n",
       "6402 2021-06-30  3987.785731  3521.893889  4431.178105\n",
       "6403 2021-07-01  3989.044826  3543.731900  4416.124547\n",
       "6404 2021-07-02  3989.364710  3557.071864  4419.408502\n",
       "6405 2021-07-03  4020.376080  3584.699665  4450.834728\n",
       "6406 2021-07-04  4022.924440  3562.154416  4456.401851\n",
       "6407 2021-07-05  3996.251025  3550.051489  4447.060411\n",
       "6408 2021-07-06  4002.243981  3508.201610  4491.914446\n",
       "6409 2021-07-07  4005.110100  3542.538628  4431.756884\n",
       "6410 2021-07-08  4007.461640  3561.955978  4505.778248\n",
       "6411 2021-07-09  4008.602970  3566.572662  4474.154598\n",
       "6412 2021-07-10  4040.147776  3593.211174  4473.112889\n",
       "6413 2021-07-11  4042.932085  3619.145495  4494.720004\n",
       "6414 2021-07-12  4016.195344  3554.820346  4447.673700"
      ]
     },
     "execution_count": 42,
     "metadata": {},
     "output_type": "execute_result"
    }
   ],
   "source": [
    "forecast = model1.predict(future)\n",
    "forecast[['ds', 'yhat', 'yhat_lower', 'yhat_upper']].tail(19)"
   ]
  },
  {
   "cell_type": "markdown",
   "metadata": {
    "id": "8PWaAcA2QDiC"
   },
   "source": [
    "LSTM Model\n"
   ]
  },
  {
   "cell_type": "code",
   "execution_count": null,
   "metadata": {
    "id": "cxGqAWJoQCcv"
   },
   "outputs": [],
   "source": [
    "#Considering Required Features for LSTM\n",
    "dfreg = df.loc[:,['Adj Close','Volume']]"
   ]
  },
  {
   "cell_type": "code",
   "execution_count": null,
   "metadata": {
    "id": "HBLFscvWQWAB"
   },
   "outputs": [],
   "source": [
    "dfreg['Percentage_HL'] = (df['High'] - df['Low']) / df['Adj Close'] * 100.0\n",
    "dfreg['Percentage_change'] = (df['Adj Close'] - df['Open']) / df['Open'] * 100.0"
   ]
  },
  {
   "cell_type": "code",
   "execution_count": null,
   "metadata": {
    "colab": {
     "base_uri": "https://localhost:8080/",
     "height": 203
    },
    "id": "DZX_YL-YQMZm",
    "outputId": "224e0af6-cc9e-4386-aa8b-daf60a34f526"
   },
   "outputs": [
    {
     "data": {
      "text/html": [
       "<div>\n",
       "<style scoped>\n",
       "    .dataframe tbody tr th:only-of-type {\n",
       "        vertical-align: middle;\n",
       "    }\n",
       "\n",
       "    .dataframe tbody tr th {\n",
       "        vertical-align: top;\n",
       "    }\n",
       "\n",
       "    .dataframe thead th {\n",
       "        text-align: right;\n",
       "    }\n",
       "</style>\n",
       "<table border=\"1\" class=\"dataframe\">\n",
       "  <thead>\n",
       "    <tr style=\"text-align: right;\">\n",
       "      <th></th>\n",
       "      <th>Adj Close</th>\n",
       "      <th>Volume</th>\n",
       "      <th>Percentage_HL</th>\n",
       "      <th>Percentage_change</th>\n",
       "    </tr>\n",
       "  </thead>\n",
       "  <tbody>\n",
       "    <tr>\n",
       "      <th>0</th>\n",
       "      <td>48.574963</td>\n",
       "      <td>2800</td>\n",
       "      <td>1.544005</td>\n",
       "      <td>-13.874182</td>\n",
       "    </tr>\n",
       "    <tr>\n",
       "      <th>1</th>\n",
       "      <td>48.161102</td>\n",
       "      <td>8400</td>\n",
       "      <td>1.012226</td>\n",
       "      <td>-13.612373</td>\n",
       "    </tr>\n",
       "    <tr>\n",
       "      <th>2</th>\n",
       "      <td>48.182880</td>\n",
       "      <td>11200</td>\n",
       "      <td>0.778285</td>\n",
       "      <td>-12.830612</td>\n",
       "    </tr>\n",
       "    <tr>\n",
       "      <th>3</th>\n",
       "      <td>46.451180</td>\n",
       "      <td>3600</td>\n",
       "      <td>1.533872</td>\n",
       "      <td>-16.001483</td>\n",
       "    </tr>\n",
       "    <tr>\n",
       "      <th>4</th>\n",
       "      <td>45.351151</td>\n",
       "      <td>12000</td>\n",
       "      <td>4.382467</td>\n",
       "      <td>-14.933364</td>\n",
       "    </tr>\n",
       "  </tbody>\n",
       "</table>\n",
       "</div>"
      ],
      "text/plain": [
       "   Adj Close  Volume  Percentage_HL  Percentage_change\n",
       "0  48.574963    2800       1.544005         -13.874182\n",
       "1  48.161102    8400       1.012226         -13.612373\n",
       "2  48.182880   11200       0.778285         -12.830612\n",
       "3  46.451180    3600       1.533872         -16.001483\n",
       "4  45.351151   12000       4.382467         -14.933364"
      ]
     },
     "execution_count": 21,
     "metadata": {},
     "output_type": "execute_result"
    }
   ],
   "source": [
    "dfreg.head()"
   ]
  },
  {
   "cell_type": "code",
   "execution_count": null,
   "metadata": {
    "colab": {
     "base_uri": "https://localhost:8080/",
     "height": 417
    },
    "id": "h7O4_8BlVK6Q",
    "outputId": "f1e770ac-8301-4667-9cfb-69676a71c8b9"
   },
   "outputs": [
    {
     "data": {
      "text/html": [
       "<div>\n",
       "<style scoped>\n",
       "    .dataframe tbody tr th:only-of-type {\n",
       "        vertical-align: middle;\n",
       "    }\n",
       "\n",
       "    .dataframe tbody tr th {\n",
       "        vertical-align: top;\n",
       "    }\n",
       "\n",
       "    .dataframe thead th {\n",
       "        text-align: right;\n",
       "    }\n",
       "</style>\n",
       "<table border=\"1\" class=\"dataframe\">\n",
       "  <thead>\n",
       "    <tr style=\"text-align: right;\">\n",
       "      <th></th>\n",
       "      <th>Adj Close</th>\n",
       "      <th>Volume</th>\n",
       "      <th>Percentage_HL</th>\n",
       "      <th>Percentage_change</th>\n",
       "    </tr>\n",
       "  </thead>\n",
       "  <tbody>\n",
       "    <tr>\n",
       "      <th>0</th>\n",
       "      <td>48.574959</td>\n",
       "      <td>2800</td>\n",
       "      <td>1.544005</td>\n",
       "      <td>-13.874189</td>\n",
       "    </tr>\n",
       "    <tr>\n",
       "      <th>1</th>\n",
       "      <td>48.161095</td>\n",
       "      <td>8400</td>\n",
       "      <td>1.012226</td>\n",
       "      <td>-13.612386</td>\n",
       "    </tr>\n",
       "    <tr>\n",
       "      <th>2</th>\n",
       "      <td>48.182877</td>\n",
       "      <td>11200</td>\n",
       "      <td>0.778285</td>\n",
       "      <td>-12.830619</td>\n",
       "    </tr>\n",
       "    <tr>\n",
       "      <th>3</th>\n",
       "      <td>46.451168</td>\n",
       "      <td>3600</td>\n",
       "      <td>1.533872</td>\n",
       "      <td>-16.001503</td>\n",
       "    </tr>\n",
       "    <tr>\n",
       "      <th>4</th>\n",
       "      <td>45.351154</td>\n",
       "      <td>12000</td>\n",
       "      <td>4.382467</td>\n",
       "      <td>-14.933356</td>\n",
       "    </tr>\n",
       "    <tr>\n",
       "      <th>...</th>\n",
       "      <td>...</td>\n",
       "      <td>...</td>\n",
       "      <td>...</td>\n",
       "      <td>...</td>\n",
       "    </tr>\n",
       "    <tr>\n",
       "      <th>6465</th>\n",
       "      <td>5042.700195</td>\n",
       "      <td>760353</td>\n",
       "      <td>2.518492</td>\n",
       "      <td>1.769933</td>\n",
       "    </tr>\n",
       "    <tr>\n",
       "      <th>6466</th>\n",
       "      <td>5034.600098</td>\n",
       "      <td>354847</td>\n",
       "      <td>1.589004</td>\n",
       "      <td>-0.049632</td>\n",
       "    </tr>\n",
       "    <tr>\n",
       "      <th>6467</th>\n",
       "      <td>4956.600098</td>\n",
       "      <td>529264</td>\n",
       "      <td>2.731719</td>\n",
       "      <td>-1.213750</td>\n",
       "    </tr>\n",
       "    <tr>\n",
       "      <th>6468</th>\n",
       "      <td>4891.100098</td>\n",
       "      <td>343974</td>\n",
       "      <td>2.186619</td>\n",
       "      <td>-1.704210</td>\n",
       "    </tr>\n",
       "    <tr>\n",
       "      <th>6469</th>\n",
       "      <td>4849.200195</td>\n",
       "      <td>348279</td>\n",
       "      <td>2.591147</td>\n",
       "      <td>-1.170854</td>\n",
       "    </tr>\n",
       "  </tbody>\n",
       "</table>\n",
       "<p>6470 rows × 4 columns</p>\n",
       "</div>"
      ],
      "text/plain": [
       "        Adj Close  Volume  Percentage_HL  Percentage_change\n",
       "0       48.574959    2800       1.544005         -13.874189\n",
       "1       48.161095    8400       1.012226         -13.612386\n",
       "2       48.182877   11200       0.778285         -12.830619\n",
       "3       46.451168    3600       1.533872         -16.001503\n",
       "4       45.351154   12000       4.382467         -14.933356\n",
       "...           ...     ...            ...                ...\n",
       "6465  5042.700195  760353       2.518492           1.769933\n",
       "6466  5034.600098  354847       1.589004          -0.049632\n",
       "6467  4956.600098  529264       2.731719          -1.213750\n",
       "6468  4891.100098  343974       2.186619          -1.704210\n",
       "6469  4849.200195  348279       2.591147          -1.170854\n",
       "\n",
       "[6470 rows x 4 columns]"
      ]
     },
     "execution_count": 43,
     "metadata": {},
     "output_type": "execute_result"
    }
   ],
   "source": [
    "dfreg"
   ]
  },
  {
   "cell_type": "code",
   "execution_count": null,
   "metadata": {
    "id": "F8ZB69hCEmmm"
   },
   "outputs": [],
   "source": [
    "df1 = dfreg['Adj Close']"
   ]
  },
  {
   "cell_type": "code",
   "execution_count": null,
   "metadata": {
    "colab": {
     "base_uri": "https://localhost:8080/"
    },
    "id": "c_lm4SYwDG8q",
    "outputId": "fb417c23-367d-4c99-b18f-97deae88d5cd"
   },
   "outputs": [
    {
     "data": {
      "text/plain": [
       "5176"
      ]
     },
     "execution_count": 23,
     "metadata": {},
     "output_type": "execute_result"
    }
   ],
   "source": [
    "num_training_examples = int(0.8 *df1.shape[0])\n",
    "num_training_examples"
   ]
  },
  {
   "cell_type": "code",
   "execution_count": null,
   "metadata": {
    "id": "TSGZk2eaFtpF"
   },
   "outputs": [],
   "source": [
    "df1.index = df['Date']"
   ]
  },
  {
   "cell_type": "code",
   "execution_count": null,
   "metadata": {
    "colab": {
     "base_uri": "https://localhost:8080/"
    },
    "id": "oE34QEBCFztd",
    "outputId": "afd11983-f7bc-4334-d707-a8bb6df9c1d6"
   },
   "outputs": [
    {
     "data": {
      "text/plain": [
       "Date\n",
       "1996-01-01    48.574963\n",
       "1996-01-02    48.161102\n",
       "1996-01-03    48.182880\n",
       "1996-01-04    46.451180\n",
       "1996-01-05    45.351151\n",
       "1996-01-08    44.763023\n",
       "1996-01-09    43.521420\n",
       "1996-01-10    44.207581\n",
       "1996-01-11    45.198685\n",
       "1996-01-12    45.307598\n",
       "Name: Adj Close, dtype: float64"
      ]
     },
     "execution_count": 25,
     "metadata": {},
     "output_type": "execute_result"
    }
   ],
   "source": [
    "df1.head(10)"
   ]
  },
  {
   "cell_type": "code",
   "execution_count": null,
   "metadata": {
    "colab": {
     "base_uri": "https://localhost:8080/"
    },
    "id": "DOXQ3E6QF7sq",
    "outputId": "700d3aff-280a-489b-f0fb-36f627fe1541"
   },
   "outputs": [
    {
     "data": {
      "text/plain": [
       "Date\n",
       "2021-09-27    4791.649902\n",
       "2021-09-28    4833.149902\n",
       "2021-09-29    4881.000000\n",
       "2021-09-30    4880.700195\n",
       "2021-10-01    4955.850098\n",
       "2021-10-04    5042.700195\n",
       "2021-10-05    5034.600098\n",
       "2021-10-06    4956.600098\n",
       "2021-10-07    4891.100098\n",
       "2021-10-08    4849.200195\n",
       "Name: Adj Close, dtype: float64"
      ]
     },
     "execution_count": 26,
     "metadata": {},
     "output_type": "execute_result"
    }
   ],
   "source": [
    "df1.tail(10)"
   ]
  },
  {
   "cell_type": "code",
   "execution_count": null,
   "metadata": {
    "colab": {
     "base_uri": "https://localhost:8080/"
    },
    "id": "4Kpq9VFzGanj",
    "outputId": "d31ed20d-ca8f-439f-a491-19b7467a6c91"
   },
   "outputs": [
    {
     "data": {
      "text/plain": [
       "(6470,)"
      ]
     },
     "execution_count": 28,
     "metadata": {},
     "output_type": "execute_result"
    }
   ],
   "source": [
    "df1.shape"
   ]
  },
  {
   "cell_type": "code",
   "execution_count": null,
   "metadata": {
    "id": "n5Hx47NjEjoB"
   },
   "outputs": [],
   "source": [
    "train_data = df1.to_list()[:num_training_examples]\n",
    "test_data = df1.to_list()[num_training_examples:]"
   ]
  },
  {
   "cell_type": "code",
   "execution_count": null,
   "metadata": {
    "colab": {
     "base_uri": "https://localhost:8080/"
    },
    "id": "A6FV6ehJE48B",
    "outputId": "1405c0b3-5251-48d6-a1e9-a939b7d85d03"
   },
   "outputs": [
    {
     "name": "stdout",
     "output_type": "stream",
     "text": [
      "[48.5749626159668, 48.161102294921875, 48.18288040161133, 46.45117950439453, 45.35115051269531, 44.763023376464844, 43.521419525146484, 44.20758056640625, 45.19868469238281, 45.30759811401367, 45.30759811401367, 44.70857620239258, 44.8719482421875, 44.556087493896484, 44.66500473022461, 44.51253128051758, 45.24224090576172, 45.601654052734375, 46.17888641357422, 46.17888641357422, 46.23335647583008, 46.3095817565918, 46.854148864746094, 46.66899871826172, 48.79278564453125, 50.09973907470703, 49.555179595947266, 50.132415771484375, 51.842342376708984, 53.78099060058594, 56.48201370239258, 57.7889518737793, 57.60380935668945, 58.191932678222656, 58.48599624633789, 57.832523345947266, 58.52956771850586, 58.52956771850586, 57.985008239746094, 58.57313537597656, 58.66025924682617, 57.39688491821289, 56.41666793823242, 56.63447952270508, 56.536476135253906, 56.86320495605469, 56.86320495605469, 57.81074905395508, 57.723609924316406, 55.54536819458008, 56.645381927490234, 57.04835510253906, 57.07013702392578, 56.61271286010742, 56.01368713378906, 56.841434478759766, 56.13348388671875, 56.13348388671875, 56.78696823120117, 56.76518249511719, 56.87409591674805, 57.004798889160156, 56.63447952270508, 57.2879753112793, 56.656272888183594, 57.50579071044922, 56.97211837768555, 57.723609924316406, 58.05036163330078, 58.05036163330078, 57.2879753112793, 57.05925369262695, 57.723609924316406, 57.941429138183594, 57.50579071044922, 57.2879753112793, 57.39688491821289, 59.9454345703125, 61.51377487182617, 61.82963180541992, 61.21969985961914, 59.705833435058594, 62.00385665893555, 63.463294982910156, 63.45240783691406, 61.28506088256836, 60.119686126708984, 60.77317428588867, 60.99097442626953, 62.10190200805664, 62.297935485839844, 61.862281799316406, 63.15835189819336, 62.493980407714844, 62.08013153076172, 61.4157600402832, 61.45930480957031, 62.46132278442383, 62.820709228515625, 62.962318420410156]\n"
     ]
    }
   ],
   "source": [
    "print(train_data[:100])"
   ]
  },
  {
   "cell_type": "code",
   "execution_count": null,
   "metadata": {
    "id": "5bqSHysaGkL9"
   },
   "outputs": [],
   "source": [
    "mean = np.array(train_data).mean()\n",
    "std = np.array(train_data).std()"
   ]
  },
  {
   "cell_type": "code",
   "execution_count": null,
   "metadata": {
    "colab": {
     "base_uri": "https://localhost:8080/"
    },
    "id": "hy3fZ1yxGmPO",
    "outputId": "7c2aa400-b3ca-4523-8fce-b5ef215e644d"
   },
   "outputs": [
    {
     "name": "stdout",
     "output_type": "stream",
     "text": [
      "Mean :  905.3750609791445\n",
      "Std :  945.2048153363049\n"
     ]
    }
   ],
   "source": [
    "print(\"Mean : \",mean)\n",
    "print(\"Std : \", std)"
   ]
  },
  {
   "cell_type": "code",
   "execution_count": null,
   "metadata": {
    "id": "ZP5fRUhSGoI0"
   },
   "outputs": [],
   "source": [
    "#Normalizing the data\n",
    "norm_train = (np.array(train_data) - mean)/std\n",
    "norm_test  = (np.array(test_data) - mean)/std"
   ]
  },
  {
   "cell_type": "code",
   "execution_count": null,
   "metadata": {
    "colab": {
     "base_uri": "https://localhost:8080/"
    },
    "id": "3dV7Yt_DG0JT",
    "outputId": "12442851-e1ba-42bf-cf9b-5daa2321f293"
   },
   "outputs": [
    {
     "data": {
      "text/plain": [
       "array([-0.90647031, -0.90690816, -0.90688512, -0.90871721, -0.90988101,\n",
       "       -0.91050323, -0.91181681, -0.91109087, -0.91004231, -0.90992709,\n",
       "       -0.90992709, -0.91056083, -0.91038799, -0.91072216, -0.91060693,\n",
       "       -0.91076824, -0.90999623, -0.90961598, -0.90900529, -0.90900529,\n",
       "       -0.90894766, -0.90886702, -0.90829088, -0.90848676, -0.90623986,\n",
       "       -0.90485714, -0.90543326, -0.90482256, -0.90301351, -0.90096248,\n",
       "       -0.89810487, -0.89672217, -0.89691804, -0.89629582, -0.89598471,\n",
       "       -0.89667607, -0.89593862, -0.89593862, -0.89651474, -0.89589252,\n",
       "       -0.89580035, -0.89713696, -0.898174  , -0.89794356, -0.89804725,\n",
       "       -0.89770158, -0.89770158, -0.8966991 , -0.8967913 , -0.89909581,\n",
       "       -0.89793203, -0.8975057 , -0.89748265, -0.89796659, -0.89860035,\n",
       "       -0.89772461, -0.8984736 , -0.8984736 , -0.89778224, -0.89780528,\n",
       "       -0.89769006, -0.89755178, -0.89794356, -0.89725218, -0.89792051,\n",
       "       -0.89702174, -0.89758635, -0.8967913 , -0.8964456 , -0.8964456 ,\n",
       "       -0.89725218, -0.89749417, -0.8967913 , -0.89656085, -0.89702174,\n",
       "       -0.89725218, -0.89713696, -0.89444067, -0.89278141, -0.89244724,\n",
       "       -0.89309253, -0.89469416, -0.89226292, -0.89071887, -0.89073039,\n",
       "       -0.89302338, -0.89425631, -0.89356494, -0.89333452, -0.89215919,\n",
       "       -0.89195179, -0.8924127 , -0.89104149, -0.89174438, -0.89218222,\n",
       "       -0.89288511, -0.89283904, -0.89177893, -0.89139871, -0.89124889])"
      ]
     },
     "execution_count": 34,
     "metadata": {},
     "output_type": "execute_result"
    }
   ],
   "source": [
    "norm_train[:100]"
   ]
  },
  {
   "cell_type": "code",
   "execution_count": null,
   "metadata": {
    "colab": {
     "base_uri": "https://localhost:8080/"
    },
    "id": "kWJQcPDyteEG",
    "outputId": "54c5d1f3-383f-400a-e0ba-fdbdc4fad3bb"
   },
   "outputs": [
    {
     "data": {
      "text/plain": [
       "(5176,)"
      ]
     },
     "execution_count": 87,
     "metadata": {},
     "output_type": "execute_result"
    }
   ],
   "source": [
    "norm_train.shape"
   ]
  },
  {
   "cell_type": "code",
   "execution_count": null,
   "metadata": {
    "id": "uctu6jIQG422"
   },
   "outputs": [],
   "source": [
    "def prepare_data(dataset, window_size=20):\n",
    "\n",
    "    dX, dY = [], []\n",
    "    \n",
    "    for i in range(len(dataset)-window_size):\n",
    "        \n",
    "        #Prepare input features\n",
    "        input_features = dataset[i:(i+window_size)]        \n",
    "        dX.append(input_features)\n",
    "\n",
    "        #Prepare Label\n",
    "        label = dataset[i + window_size]\n",
    "        dY.append(label)\n",
    "    \n",
    "    return np.array(dX), np.array(dY)"
   ]
  },
  {
   "cell_type": "code",
   "execution_count": null,
   "metadata": {
    "id": "gjHkLpoMJGC0"
   },
   "outputs": [],
   "source": [
    "#Prepare x,y for train and test\n",
    "train_x, train_y = prepare_data(norm_train)\n",
    "test_x, test_y = prepare_data(norm_test)"
   ]
  },
  {
   "cell_type": "code",
   "execution_count": null,
   "metadata": {
    "colab": {
     "base_uri": "https://localhost:8080/"
    },
    "id": "Ix_oY42jJOXq",
    "outputId": "f0736a03-d014-4556-d204-0b30282a088a"
   },
   "outputs": [
    {
     "data": {
      "text/plain": [
       "(5156, 20)"
      ]
     },
     "execution_count": 71,
     "metadata": {},
     "output_type": "execute_result"
    }
   ],
   "source": [
    "train_x.shape"
   ]
  },
  {
   "cell_type": "code",
   "execution_count": null,
   "metadata": {
    "colab": {
     "base_uri": "https://localhost:8080/"
    },
    "id": "93oumwT7Jd-a",
    "outputId": "dd18ed15-1d3b-4fe2-95e6-98d9adac2a12"
   },
   "outputs": [
    {
     "data": {
      "text/plain": [
       "(5156,)"
      ]
     },
     "execution_count": 72,
     "metadata": {},
     "output_type": "execute_result"
    }
   ],
   "source": [
    "train_y.shape"
   ]
  },
  {
   "cell_type": "code",
   "execution_count": null,
   "metadata": {
    "colab": {
     "base_uri": "https://localhost:8080/"
    },
    "id": "l72TpXbLJfeO",
    "outputId": "78f1a02a-360c-49eb-ff18-040dbe15ea9b"
   },
   "outputs": [
    {
     "data": {
      "text/plain": [
       "array([-0.90647031, -0.90690816, -0.90688512, -0.90871721, -0.90988101,\n",
       "       -0.91050323, -0.91181681, -0.91109087, -0.91004231, -0.90992709,\n",
       "       -0.90992709, -0.91056083, -0.91038799, -0.91072216, -0.91060693,\n",
       "       -0.91076824, -0.90999623, -0.90961598, -0.90900529, -0.90900529])"
      ]
     },
     "execution_count": 39,
     "metadata": {},
     "output_type": "execute_result"
    }
   ],
   "source": [
    "train_x[0]"
   ]
  },
  {
   "cell_type": "code",
   "execution_count": null,
   "metadata": {
    "colab": {
     "base_uri": "https://localhost:8080/"
    },
    "id": "I5NDgfgSJhi5",
    "outputId": "45a91570-0592-4dff-b23f-334b239654a7"
   },
   "outputs": [
    {
     "data": {
      "text/plain": [
       "-0.908947659346859"
      ]
     },
     "execution_count": 40,
     "metadata": {},
     "output_type": "execute_result"
    }
   ],
   "source": [
    "train_y[0]"
   ]
  },
  {
   "cell_type": "code",
   "execution_count": null,
   "metadata": {
    "id": "varVTiO_JkJj"
   },
   "outputs": [],
   "source": [
    "import tensorflow as tf\n",
    "tf.random.set_seed(13)"
   ]
  },
  {
   "cell_type": "code",
   "execution_count": null,
   "metadata": {
    "id": "-U7YVLMKKm1S"
   },
   "outputs": [],
   "source": [
    "#Build Model\n",
    "tf.keras.backend.clear_session()\n",
    "model = tf.keras.Sequential()\n",
    "\n",
    "#Add LSTM layer\n",
    "model.add(tf.keras.layers.LSTM(8, input_shape=(train_x.shape[1], 1,)))\n",
    "\n",
    "#Add Output layer\n",
    "model.add(tf.keras.layers.Dense(1))"
   ]
  },
  {
   "cell_type": "code",
   "execution_count": null,
   "metadata": {
    "id": "CaLCGF9hKpPl"
   },
   "outputs": [],
   "source": [
    "#Compile the model\n",
    "model.compile(optimizer='adam', loss='mae', metrics='mse')"
   ]
  },
  {
   "cell_type": "code",
   "execution_count": null,
   "metadata": {
    "colab": {
     "base_uri": "https://localhost:8080/"
    },
    "id": "R_zQKHpSKsLt",
    "outputId": "5d7323a1-5248-4efc-8efc-b2ba4f3d374b"
   },
   "outputs": [
    {
     "name": "stdout",
     "output_type": "stream",
     "text": [
      "Model: \"sequential\"\n",
      "_________________________________________________________________\n",
      "Layer (type)                 Output Shape              Param #   \n",
      "=================================================================\n",
      "lstm (LSTM)                  (None, 8)                 320       \n",
      "_________________________________________________________________\n",
      "dense (Dense)                (None, 1)                 9         \n",
      "=================================================================\n",
      "Total params: 329\n",
      "Trainable params: 329\n",
      "Non-trainable params: 0\n",
      "_________________________________________________________________\n"
     ]
    }
   ],
   "source": [
    "model.summary()"
   ]
  },
  {
   "cell_type": "code",
   "execution_count": null,
   "metadata": {
    "colab": {
     "base_uri": "https://localhost:8080/"
    },
    "id": "rlkvZcmsKtqJ",
    "outputId": "13fb3cd4-b27e-4026-e9a5-f47a9a20c2ed"
   },
   "outputs": [
    {
     "data": {
      "text/plain": [
       "(5156, 20)"
      ]
     },
     "execution_count": 45,
     "metadata": {},
     "output_type": "execute_result"
    }
   ],
   "source": [
    "train_x.shape"
   ]
  },
  {
   "cell_type": "code",
   "execution_count": null,
   "metadata": {
    "id": "g1XQpYVOKwpd"
   },
   "outputs": [],
   "source": [
    "train_x = np.expand_dims(train_x, axis=2)\n",
    "test_x = np.expand_dims(test_x, axis=2)"
   ]
  },
  {
   "cell_type": "code",
   "execution_count": null,
   "metadata": {
    "colab": {
     "base_uri": "https://localhost:8080/"
    },
    "id": "R02MxDqGK0BV",
    "outputId": "b1079fe0-21c2-48ec-d4c8-fb9d270b2169"
   },
   "outputs": [
    {
     "name": "stdout",
     "output_type": "stream",
     "text": [
      "Epoch 1/20\n",
      "21/21 [==============================] - 3s 38ms/step - loss: 0.5457 - mse: 0.5499 - val_loss: 1.8739 - val_mse: 4.5402\n",
      "Epoch 2/20\n",
      "21/21 [==============================] - 0s 13ms/step - loss: 0.4122 - mse: 0.4283 - val_loss: 1.7680 - val_mse: 4.1209\n",
      "Epoch 3/20\n",
      "21/21 [==============================] - 0s 12ms/step - loss: 0.3205 - mse: 0.3422 - val_loss: 1.6023 - val_mse: 3.5458\n",
      "Epoch 4/20\n",
      "21/21 [==============================] - 0s 12ms/step - loss: 0.2586 - mse: 0.2525 - val_loss: 1.3867 - val_mse: 2.9027\n",
      "Epoch 5/20\n",
      "21/21 [==============================] - 0s 13ms/step - loss: 0.1834 - mse: 0.1686 - val_loss: 1.1346 - val_mse: 2.2823\n",
      "Epoch 6/20\n",
      "21/21 [==============================] - 0s 14ms/step - loss: 0.1359 - mse: 0.1088 - val_loss: 0.9513 - val_mse: 1.8344\n",
      "Epoch 7/20\n",
      "21/21 [==============================] - 0s 14ms/step - loss: 0.1074 - mse: 0.0743 - val_loss: 0.7891 - val_mse: 1.4257\n",
      "Epoch 8/20\n",
      "21/21 [==============================] - 0s 11ms/step - loss: 0.0760 - mse: 0.0430 - val_loss: 0.6273 - val_mse: 1.0861\n",
      "Epoch 9/20\n",
      "21/21 [==============================] - 0s 11ms/step - loss: 0.0531 - mse: 0.0241 - val_loss: 0.5509 - val_mse: 0.8846\n",
      "Epoch 10/20\n",
      "21/21 [==============================] - 0s 11ms/step - loss: 0.0423 - mse: 0.0153 - val_loss: 0.5061 - val_mse: 0.7561\n",
      "Epoch 11/20\n",
      "21/21 [==============================] - 0s 10ms/step - loss: 0.0373 - mse: 0.0113 - val_loss: 0.4693 - val_mse: 0.6659\n",
      "Epoch 12/20\n",
      "21/21 [==============================] - 0s 12ms/step - loss: 0.0340 - mse: 0.0088 - val_loss: 0.4419 - val_mse: 0.5956\n",
      "Epoch 13/20\n",
      "21/21 [==============================] - 0s 14ms/step - loss: 0.0316 - mse: 0.0073 - val_loss: 0.4204 - val_mse: 0.5468\n",
      "Epoch 14/20\n",
      "21/21 [==============================] - 0s 13ms/step - loss: 0.0303 - mse: 0.0063 - val_loss: 0.4037 - val_mse: 0.5104\n",
      "Epoch 15/20\n",
      "21/21 [==============================] - 0s 12ms/step - loss: 0.0294 - mse: 0.0057 - val_loss: 0.3884 - val_mse: 0.4803\n",
      "Epoch 16/20\n",
      "21/21 [==============================] - 0s 14ms/step - loss: 0.0284 - mse: 0.0050 - val_loss: 0.3755 - val_mse: 0.4482\n",
      "Epoch 17/20\n",
      "21/21 [==============================] - 0s 15ms/step - loss: 0.0277 - mse: 0.0045 - val_loss: 0.3631 - val_mse: 0.4190\n",
      "Epoch 18/20\n",
      "21/21 [==============================] - 0s 13ms/step - loss: 0.0269 - mse: 0.0041 - val_loss: 0.3544 - val_mse: 0.3949\n",
      "Epoch 19/20\n",
      "21/21 [==============================] - 0s 13ms/step - loss: 0.0264 - mse: 0.0038 - val_loss: 0.3407 - val_mse: 0.3709\n",
      "Epoch 20/20\n",
      "21/21 [==============================] - 0s 12ms/step - loss: 0.0261 - mse: 0.0035 - val_loss: 0.3311 - val_mse: 0.3511\n"
     ]
    },
    {
     "data": {
      "text/plain": [
       "<keras.callbacks.History at 0x7fbef35a6fd0>"
      ]
     },
     "execution_count": 47,
     "metadata": {},
     "output_type": "execute_result"
    }
   ],
   "source": [
    "model.fit(train_x, train_y,\n",
    "          validation_data=(test_x, test_y),\n",
    "          epochs=20, \n",
    "          batch_size=256)"
   ]
  },
  {
   "cell_type": "code",
   "execution_count": null,
   "metadata": {
    "id": "PtZyLgx0XiOL"
   },
   "outputs": [],
   "source": [
    "input_2=[model,]"
   ]
  },
  {
   "cell_type": "code",
   "execution_count": null,
   "metadata": {
    "colab": {
     "base_uri": "https://localhost:8080/"
    },
    "id": "UGl8LMjeXiA3",
    "outputId": "f08e457d-3605-4869-d0f6-a9f63eccf315"
   },
   "outputs": [
    {
     "data": {
      "text/plain": [
       "[<keras.engine.sequential.Sequential at 0x7fbef7168ed0>]"
      ]
     },
     "execution_count": 49,
     "metadata": {},
     "output_type": "execute_result"
    }
   ],
   "source": []
  },
  {
   "cell_type": "code",
   "execution_count": null,
   "metadata": {
    "colab": {
     "base_uri": "https://localhost:8080/"
    },
    "id": "sJEuXhl2K2Go",
    "outputId": "defd4d06-e284-44e3-bb9e-99117e3fd7ee"
   },
   "outputs": [
    {
     "name": "stdout",
     "output_type": "stream",
     "text": [
      "Normalized Prediction [[2.177855]]\n"
     ]
    }
   ],
   "source": [
    "a = model.predict(test_x[0:1])\n",
    "print('Normalized Prediction', a)"
   ]
  },
  {
   "cell_type": "code",
   "execution_count": null,
   "metadata": {
    "colab": {
     "base_uri": "https://localhost:8080/"
    },
    "id": "mTDRO3u3LBv2",
    "outputId": "bfcd533f-9143-4aeb-cc2f-aac4f1177c76"
   },
   "outputs": [
    {
     "name": "stdout",
     "output_type": "stream",
     "text": [
      "De-normalized Prediction [[2963.894]]\n"
     ]
    }
   ],
   "source": [
    "print('De-normalized Prediction', a * std + mean)"
   ]
  },
  {
   "cell_type": "code",
   "execution_count": null,
   "metadata": {
    "colab": {
     "base_uri": "https://localhost:8080/"
    },
    "id": "pAEcqmKJLDgP",
    "outputId": "1cce382a-c2d8-45c2-e865-493f7eb7d456"
   },
   "outputs": [
    {
     "data": {
      "text/plain": [
       "2893.2583007812495"
      ]
     },
     "execution_count": 52,
     "metadata": {},
     "output_type": "execute_result"
    }
   ],
   "source": [
    "#Actual\n",
    "test_y[0]*std+mean"
   ]
  },
  {
   "cell_type": "markdown",
   "metadata": {
    "id": "_FGwUobSfAPp"
   },
   "source": [
    "Model Building Final(By Combining Time series and Non Time series related featues)"
   ]
  },
  {
   "cell_type": "code",
   "execution_count": null,
   "metadata": {
    "id": "-LNVMF51uixs"
   },
   "outputs": [],
   "source": [
    "df2_Target=df['Adj Close']"
   ]
  },
  {
   "cell_type": "code",
   "execution_count": null,
   "metadata": {
    "id": "AWgGwifUvhNk"
   },
   "outputs": [],
   "source": [
    "df2_Target.index=df['Date']"
   ]
  },
  {
   "cell_type": "code",
   "execution_count": null,
   "metadata": {
    "id": "5CRHBf2Vuh1F"
   },
   "outputs": [],
   "source": [
    "train_data_1 = df2_Target.to_list()[:num_training_examples]\n",
    "test_data_1 = df2_Target.to_list()[num_training_examples:]"
   ]
  },
  {
   "cell_type": "code",
   "execution_count": null,
   "metadata": {
    "id": "F-s3GKV-vwSY"
   },
   "outputs": [],
   "source": [
    "df2_vol=dfreg['Volume']\n",
    "df2_vol_train = df2_vol.to_list()[:num_training_examples]\n",
    "df2_vol_test = df2_vol.to_list()[num_training_examples:]"
   ]
  },
  {
   "cell_type": "code",
   "execution_count": null,
   "metadata": {
    "id": "DCVyjlmFwIMn"
   },
   "outputs": [],
   "source": [
    "df2_hl=dfreg['Percentage_HL']\n",
    "df2_hl_train = df2_hl.to_list()[:num_training_examples]\n",
    "df2_hl_test = df2_hl.to_list()[num_training_examples:]"
   ]
  },
  {
   "cell_type": "code",
   "execution_count": null,
   "metadata": {
    "id": "ruUnw9R1wjuS"
   },
   "outputs": [],
   "source": [
    "df2_change=dfreg['Percentage_change']\n",
    "df2_change_train = df2_change.to_list()[:num_training_examples]\n",
    "df2_change_test = df2_change.to_list()[num_training_examples:]"
   ]
  },
  {
   "cell_type": "code",
   "execution_count": null,
   "metadata": {
    "id": "1wAvW0_ew_gn"
   },
   "outputs": [],
   "source": [
    "mean_target = np.array(train_data_1).mean()\n",
    "std_targer = np.array(train_data_1).std()"
   ]
  },
  {
   "cell_type": "code",
   "execution_count": null,
   "metadata": {
    "id": "v7tvmx2PrbQu"
   },
   "outputs": [],
   "source": [
    "mean_vol = np.array(df2_vol_train).mean()\n",
    "std_vol = np.array(df2_vol_train).std()"
   ]
  },
  {
   "cell_type": "code",
   "execution_count": null,
   "metadata": {
    "id": "zSJstMouxXtT"
   },
   "outputs": [],
   "source": [
    "mean_hl = np.array(df2_hl_train).mean()\n",
    "std_hl = np.array(df2_hl_train).std()"
   ]
  },
  {
   "cell_type": "code",
   "execution_count": null,
   "metadata": {
    "id": "Esa__kuexXfX"
   },
   "outputs": [],
   "source": [
    "mean_change = np.array(df2_change_train).mean()\n",
    "std_change = np.array(df2_change_train).std()"
   ]
  },
  {
   "cell_type": "code",
   "execution_count": null,
   "metadata": {
    "id": "Wm4p2z-QuF3Y"
   },
   "outputs": [],
   "source": [
    "#Normalizing the data\n",
    "norm_train_1 = (np.array(train_data_1) - mean_target)/std_targer\n",
    "norm_test_1  = (np.array(test_data_1) - mean_target)/std_targer\n",
    "norm_train_vol = (np.array(df2_vol_train) - mean_vol)/std_vol\n",
    "norm_test_vol  = (np.array(df2_vol_test) - mean_vol)/std_vol\n",
    "norm_train_hl = (np.array(df2_hl_train) - mean_hl)/std_hl\n",
    "norm_test_hl  = (np.array(df2_hl_test) - mean_hl)/std_hl\n",
    "norm_train_change = (np.array(df2_change_train) - mean_change)/std_change\n",
    "norm_test_change  = (np.array(df2_change_test) - mean_change)/std_change"
   ]
  },
  {
   "cell_type": "code",
   "execution_count": null,
   "metadata": {
    "id": "mwgcd99qz6_m"
   },
   "outputs": [],
   "source": [
    "def prepare_data(dataset1,dataset2,dataset3,dataset4, window_size=20):\n",
    "\n",
    "    dX, dY, nf1, nf2, nf3 = [], [], [], [], []\n",
    "    \n",
    "    for i in range(len(dataset1)-window_size):\n",
    "        \n",
    "        #Prepare input features\n",
    "        input_features = dataset1[i:(i+window_size)]        \n",
    "        dX.append(input_features)\n",
    "\n",
    "        #Prepare Volume\n",
    "        label1 = dataset2[i + window_size]\n",
    "        nf1.append(label1)\n",
    "\n",
    "        #Prepare HL\n",
    "        label2 = dataset3[i + window_size]\n",
    "        nf2.append(label2)\n",
    "\n",
    "        #Prepare Change\n",
    "        label3 = dataset4[i + window_size]\n",
    "        nf3.append(label3)\n",
    "\n",
    "        #Prepare Label\n",
    "        label = dataset1[i + window_size]\n",
    "        dY.append(label)\n",
    "    \n",
    "    return np.array(dX), np.array(dY), np.array(nf1), np.array(nf2), np.array(nf3)"
   ]
  },
  {
   "cell_type": "code",
   "execution_count": null,
   "metadata": {
    "id": "yyggNJzO08S3"
   },
   "outputs": [],
   "source": [
    "#Prepare x,y for train and test\n",
    "train_x_lsf, train_y_lsf, train_v_lsf, train_h_lsf, train_c_lsf = prepare_data(norm_train_1,df2_vol_train,df2_hl_train,df2_change_train)\n",
    "test_x_lsf, test_y_lsf, test_v_lsf, test_h_lsf, test_c_lsf = prepare_data(norm_test_1,df2_vol_test,df2_hl_test,df2_change_test)"
   ]
  },
  {
   "cell_type": "code",
   "execution_count": null,
   "metadata": {
    "colab": {
     "base_uri": "https://localhost:8080/"
    },
    "id": "jA2BEsgo1Vk7",
    "outputId": "df7daf1e-1710-4384-efad-cde070aba6e1"
   },
   "outputs": [
    {
     "data": {
      "text/plain": [
       "(5156, 20)"
      ]
     },
     "execution_count": 154,
     "metadata": {},
     "output_type": "execute_result"
    }
   ],
   "source": [
    "train_x_lsf.shape"
   ]
  },
  {
   "cell_type": "code",
   "execution_count": null,
   "metadata": {
    "id": "Es4vTaGlfTm6"
   },
   "outputs": [],
   "source": [
    "#Building LSTM layer for the Time Series Feature\n",
    "input_1=tf.keras.layers.Input(shape=(20,))\n",
    "x1=tf.keras.layers.Reshape((20,1,))(input_1)\n",
    "lstm_layer=tf.keras.layers.LSTM(50)(x1)\n",
    "\n",
    "#Layers for Non Time Series Features\n",
    "\n",
    "input_2=tf.keras.layers.Input(shape=(1,))\n",
    "input_3=tf.keras.layers.Input(shape=(1,))\n",
    "input_4=tf.keras.layers.Input(shape=(1,))\n",
    "\n",
    "#Concatenate all the layers\n",
    "\n",
    "concat_layer=tf.keras.layers.concatenate([lstm_layer, input_2, input_3, input_4])"
   ]
  },
  {
   "cell_type": "code",
   "execution_count": null,
   "metadata": {
    "id": "2Ku4shWuiAKk"
   },
   "outputs": [],
   "source": [
    "dense_layer=tf.keras.layers.Dense(1,activation='sigmoid')(concat_layer)"
   ]
  },
  {
   "cell_type": "code",
   "execution_count": null,
   "metadata": {
    "id": "Oo4zx5jxhmpO"
   },
   "outputs": [],
   "source": [
    "#Model Building\n",
    "model_final=tf.keras.Model([input_1, input_2, input_3,input_4], dense_layer)"
   ]
  },
  {
   "cell_type": "code",
   "execution_count": null,
   "metadata": {
    "id": "8LtrLdZmini1"
   },
   "outputs": [],
   "source": [
    "model_final.compile(optimizer='adam', loss='mae',metrics='mse')"
   ]
  },
  {
   "cell_type": "code",
   "execution_count": null,
   "metadata": {
    "colab": {
     "base_uri": "https://localhost:8080/"
    },
    "id": "8YktQS4pkdET",
    "outputId": "3939df1f-97e3-47e3-905f-9f4647992105"
   },
   "outputs": [
    {
     "name": "stdout",
     "output_type": "stream",
     "text": [
      "Model: \"model_3\"\n",
      "__________________________________________________________________________________________________\n",
      "Layer (type)                    Output Shape         Param #     Connected to                     \n",
      "==================================================================================================\n",
      "input_17 (InputLayer)           [(None, 20)]         0                                            \n",
      "__________________________________________________________________________________________________\n",
      "reshape_4 (Reshape)             (None, 20, 1)        0           input_17[0][0]                   \n",
      "__________________________________________________________________________________________________\n",
      "lstm_6 (LSTM)                   (None, 50)           10400       reshape_4[0][0]                  \n",
      "__________________________________________________________________________________________________\n",
      "input_18 (InputLayer)           [(None, 1)]          0                                            \n",
      "__________________________________________________________________________________________________\n",
      "input_19 (InputLayer)           [(None, 1)]          0                                            \n",
      "__________________________________________________________________________________________________\n",
      "input_20 (InputLayer)           [(None, 1)]          0                                            \n",
      "__________________________________________________________________________________________________\n",
      "concatenate_5 (Concatenate)     (None, 53)           0           lstm_6[0][0]                     \n",
      "                                                                 input_18[0][0]                   \n",
      "                                                                 input_19[0][0]                   \n",
      "                                                                 input_20[0][0]                   \n",
      "__________________________________________________________________________________________________\n",
      "dense_4 (Dense)                 (None, 1)            54          concatenate_5[0][0]              \n",
      "==================================================================================================\n",
      "Total params: 10,454\n",
      "Trainable params: 10,454\n",
      "Non-trainable params: 0\n",
      "__________________________________________________________________________________________________\n"
     ]
    }
   ],
   "source": [
    "model_final.summary()"
   ]
  },
  {
   "cell_type": "code",
   "execution_count": null,
   "metadata": {
    "colab": {
     "base_uri": "https://localhost:8080/"
    },
    "id": "3r_OOTIpkkU3",
    "outputId": "baa2b0ad-fefc-449d-85f2-a0b4eadeb961"
   },
   "outputs": [
    {
     "name": "stdout",
     "output_type": "stream",
     "text": [
      "Epoch 1/20\n",
      "162/162 [==============================] - 4s 11ms/step - loss: 0.8048 - mse: 1.0079\n",
      "Epoch 2/20\n",
      "162/162 [==============================] - 2s 10ms/step - loss: 0.8010 - mse: 0.9998\n",
      "Epoch 3/20\n",
      "162/162 [==============================] - 2s 10ms/step - loss: 0.8010 - mse: 0.9997\n",
      "Epoch 4/20\n",
      "162/162 [==============================] - 2s 11ms/step - loss: 0.8010 - mse: 0.9997\n",
      "Epoch 5/20\n",
      "162/162 [==============================] - 2s 11ms/step - loss: 0.8009 - mse: 0.9997\n",
      "Epoch 6/20\n",
      "162/162 [==============================] - 2s 10ms/step - loss: 0.8009 - mse: 0.9997\n",
      "Epoch 7/20\n",
      "162/162 [==============================] - 2s 10ms/step - loss: 0.8009 - mse: 0.9997\n",
      "Epoch 8/20\n",
      "162/162 [==============================] - 2s 10ms/step - loss: 0.8009 - mse: 0.9997\n",
      "Epoch 9/20\n",
      "162/162 [==============================] - 2s 11ms/step - loss: 0.8009 - mse: 0.9997\n",
      "Epoch 10/20\n",
      "162/162 [==============================] - 2s 11ms/step - loss: 0.8009 - mse: 0.9997\n",
      "Epoch 11/20\n",
      "162/162 [==============================] - 2s 12ms/step - loss: 0.8009 - mse: 0.9997\n",
      "Epoch 12/20\n",
      "162/162 [==============================] - 2s 12ms/step - loss: 0.8009 - mse: 0.9997\n",
      "Epoch 13/20\n",
      "162/162 [==============================] - 2s 12ms/step - loss: 0.8009 - mse: 0.9997\n",
      "Epoch 14/20\n",
      "162/162 [==============================] - 2s 12ms/step - loss: 0.8009 - mse: 0.9997\n",
      "Epoch 15/20\n",
      "162/162 [==============================] - 2s 12ms/step - loss: 0.8009 - mse: 0.9997\n",
      "Epoch 16/20\n",
      "162/162 [==============================] - 2s 11ms/step - loss: 0.8009 - mse: 0.9997\n",
      "Epoch 17/20\n",
      "162/162 [==============================] - 2s 10ms/step - loss: 0.8009 - mse: 0.9997\n",
      "Epoch 18/20\n",
      "162/162 [==============================] - 2s 11ms/step - loss: 0.8009 - mse: 0.9997\n",
      "Epoch 19/20\n",
      "162/162 [==============================] - 2s 12ms/step - loss: 0.8009 - mse: 0.9997\n",
      "Epoch 20/20\n",
      "162/162 [==============================] - 2s 11ms/step - loss: 0.8009 - mse: 0.9997\n"
     ]
    },
    {
     "data": {
      "text/plain": [
       "<keras.callbacks.History at 0x7fbee862eed0>"
      ]
     },
     "execution_count": 160,
     "metadata": {},
     "output_type": "execute_result"
    }
   ],
   "source": [
    "model_final.fit([train_x_lsf, train_v_lsf,train_h_lsf,train_c_lsf],train_y,epochs=20)"
   ]
  },
  {
   "cell_type": "markdown",
   "metadata": {
    "id": "xZYfg1TEQklb"
   },
   "source": [
    "ARIMA Model"
   ]
  },
  {
   "cell_type": "code",
   "execution_count": null,
   "metadata": {
    "colab": {
     "base_uri": "https://localhost:8080/"
    },
    "id": "Sb7RVqlGJYi6",
    "outputId": "50ad8798-5637-47b1-c43f-a921ae19d939"
   },
   "outputs": [
    {
     "name": "stdout",
     "output_type": "stream",
     "text": [
      "\r",
      "[*********************100%***********************]  1 of 1 completed\n"
     ]
    }
   ],
   "source": [
    "## ARIMA \n",
    "df = yf.download(\"DRREDDY.NS\").reset_index()"
   ]
  },
  {
   "cell_type": "code",
   "execution_count": null,
   "metadata": {
    "colab": {
     "base_uri": "https://localhost:8080/"
    },
    "id": "Lx__vKB3KTXx",
    "outputId": "126ed2b1-3100-4931-d2a9-b3ec2e196659"
   },
   "outputs": [
    {
     "name": "stderr",
     "output_type": "stream",
     "text": [
      "/usr/local/lib/python3.7/dist-packages/ipykernel_launcher.py:10: FutureWarning:\n",
      "\n",
      "The pandas.datetime class is deprecated and will be removed from pandas in a future version. Import from datetime module instead.\n",
      "\n",
      "/usr/local/lib/python3.7/dist-packages/statsmodels/tools/_testing.py:19: FutureWarning:\n",
      "\n",
      "pandas.util.testing is deprecated. Use the functions in the public API at pandas.testing instead.\n",
      "\n"
     ]
    }
   ],
   "source": [
    "import pandas as pd \n",
    "import numpy as np\n",
    "import matplotlib.pyplot as plt\n",
    "import seaborn as sns\n",
    "\n",
    "import yfinance as yf\n",
    "\n",
    "import matplotlib.pyplot as plt\n",
    "from pandas.plotting import lag_plot\n",
    "from pandas import datetime\n",
    "from statsmodels.tsa.arima_model import ARIMA\n",
    "from sklearn.metrics import mean_squared_error"
   ]
  },
  {
   "cell_type": "code",
   "execution_count": null,
   "metadata": {
    "colab": {
     "base_uri": "https://localhost:8080/",
     "height": 294
    },
    "id": "QSwcqCv9KJoL",
    "outputId": "e74294cb-8dda-4395-88f0-05d47c0c9e75"
   },
   "outputs": [
    {
     "data": {
      "image/png": "[encoded data removed]",
      "text/plain": [
       "<Figure size 432x288 with 1 Axes>"
      ]
     },
     "metadata": {
      "needs_background": "light"
     },
     "output_type": "display_data"
    }
   ],
   "source": [
    "plt.figure()\n",
    "lag_plot(df['Open'], lag=3)\n",
    "plt.title('DRREDDY Stock - Autocorrelation plot with lag = 3')\n",
    "plt.show()"
   ]
  },
  {
   "cell_type": "code",
   "execution_count": null,
   "metadata": {
    "colab": {
     "base_uri": "https://localhost:8080/",
     "height": 294
    },
    "id": "Eo2Qnrk7KONB",
    "outputId": "119271a2-372a-48de-cf7f-5da2557270a0"
   },
   "outputs": [
    {
     "data": {
      "image/png": "[encoded data removed]",
      "text/plain": [
       "<Figure size 432x288 with 1 Axes>"
      ]
     },
     "metadata": {
      "needs_background": "light"
     },
     "output_type": "display_data"
    }
   ],
   "source": [
    "plt.plot(df[\"Date\"], df[\"Close\"])\n",
    "plt.title(\"DRREDDY stock price over time\")\n",
    "plt.xlabel(\"time\")\n",
    "plt.ylabel(\"price\")\n",
    "plt.show()"
   ]
  },
  {
   "cell_type": "code",
   "execution_count": null,
   "metadata": {
    "colab": {
     "base_uri": "https://localhost:8080/"
    },
    "id": "-nXGrnByKZby",
    "outputId": "1af8e12a-5400-4bf5-d1ef-8e009c4b47e0"
   },
   "outputs": [
    {
     "name": "stdout",
     "output_type": "stream",
     "text": [
      "Testing Mean Squared Error is 3646.249166631201\n"
     ]
    }
   ],
   "source": [
    "train_data, test_data = df[0:int(len(df)*0.7)], df[int(len(df)*0.7):]\n",
    "training_data = train_data['Close'].values\n",
    "test_data = test_data['Close'].values\n",
    "history = [x for x in training_data]\n",
    "model_predictions = []\n",
    "N_test_observations = len(test_data)\n",
    "for time_point in range(N_test_observations):\n",
    "    model = ARIMA(history, order=(3,1,0))\n",
    "    model_fit = model.fit(disp=0)\n",
    "    output = model_fit.forecast()\n",
    "    yhat = output[0]\n",
    "    model_predictions.append(yhat)\n",
    "    true_test_value = test_data[time_point]\n",
    "    history.append(true_test_value)\n",
    "MSE_error = mean_squared_error(test_data, model_predictions)\n",
    "print('Testing Mean Squared Error is {}'.format(MSE_error))"
   ]
  },
  {
   "cell_type": "code",
   "execution_count": null,
   "metadata": {
    "colab": {
     "base_uri": "https://localhost:8080/",
     "height": 294
    },
    "id": "FKVVsnaZKbz4",
    "outputId": "5424fce9-374f-413b-8c91-f2c3b531f8ac"
   },
   "outputs": [
    {
     "data": {
      "image/png": "[encoded data removed]",
      "text/plain": [
       "<Figure size 432x288 with 1 Axes>"
      ]
     },
     "metadata": {
      "needs_background": "light"
     },
     "output_type": "display_data"
    }
   ],
   "source": [
    "test_set_range = df[int(len(df)*0.7):].index\n",
    "plt.plot(test_set_range, model_predictions, color='blue', marker='o', linestyle='dashed',label='Predicted Price')\n",
    "plt.plot(test_set_range, test_data, color='red', label='Actual Price')\n",
    "plt.title('DRREDDY Prices Prediction')\n",
    "plt.xlabel('Date')\n",
    "plt.ylabel('Prices')\n",
    "plt.legend()\n",
    "plt.show()"
   ]
  },
  {
   "cell_type": "code",
   "execution_count": null,
   "metadata": {
    "colab": {
     "base_uri": "https://localhost:8080/"
    },
    "id": "kPgvcIr7Kd4F",
    "outputId": "2cae8cdc-1e1f-42d4-eb73-670e5879e1d7"
   },
   "outputs": [
    {
     "data": {
      "text/plain": [
       "[array([2461.58335996]),\n",
       " array([2438.88132191]),\n",
       " array([2424.82911863]),\n",
       " array([2404.47179477]),\n",
       " array([2395.74242297]),\n",
       " array([2411.42970093]),\n",
       " array([2401.25299704]),\n",
       " array([2427.57971566]),\n",
       " array([2521.71692892]),\n",
       " array([2448.21312721]),\n",
       " array([2460.32792671]),\n",
       " array([2418.42630313]),\n",
       " array([2399.5506025]),\n",
       " array([2422.24381527]),\n",
       " array([2403.79680844]),\n",
       " array([2468.26511867]),\n",
       " array([2468.41488585]),\n",
       " array([2459.63869903]),\n",
       " array([2462.5285233]),\n",
       " array([2467.5996368]),\n",
       " array([2453.90612402]),\n",
       " array([2427.32530331]),\n",
       " array([2414.26587369]),\n",
       " array([2438.97773753]),\n",
       " array([2442.08920049]),\n",
       " array([2408.34207881]),\n",
       " array([2429.01831804]),\n",
       " array([2460.57557094]),\n",
       " array([2480.65242553]),\n",
       " array([2492.87434508]),\n",
       " array([2462.12773616]),\n",
       " array([2450.32923617]),\n",
       " array([2422.20587407]),\n",
       " array([2427.73027352]),\n",
       " array([2459.61978598]),\n",
       " array([2450.66959928]),\n",
       " array([2437.7741511]),\n",
       " array([2405.55204615]),\n",
       " array([2405.08909688]),\n",
       " array([2407.42286138]),\n",
       " array([2427.8896479]),\n",
       " array([2467.10138917]),\n",
       " array([2457.56842681]),\n",
       " array([2506.00097594]),\n",
       " array([2512.2901038]),\n",
       " array([2531.69253982]),\n",
       " array([2513.11188753]),\n",
       " array([2517.26989745]),\n",
       " array([2530.11539992]),\n",
       " array([2533.78500718]),\n",
       " array([2536.62888613]),\n",
       " array([2527.70723516]),\n",
       " array([2496.94071274]),\n",
       " array([2475.49119903]),\n",
       " array([2498.22099904]),\n",
       " array([2535.19935927]),\n",
       " array([2581.27858889]),\n",
       " array([2616.15574033]),\n",
       " array([2616.27429424]),\n",
       " array([2643.0193484]),\n",
       " array([2649.60385871]),\n",
       " array([2641.54510579]),\n",
       " array([2652.53464441]),\n",
       " array([2654.64147629]),\n",
       " array([2650.99520756]),\n",
       " array([2670.88177559]),\n",
       " array([2669.27566129]),\n",
       " array([2658.72336796]),\n",
       " array([2634.80543909]),\n",
       " array([2655.02440711]),\n",
       " array([2659.51799255]),\n",
       " array([2617.75594377]),\n",
       " array([2611.6053948]),\n",
       " array([2659.53392683]),\n",
       " array([2597.6518618]),\n",
       " array([2592.24273471]),\n",
       " array([2609.71382697]),\n",
       " array([2632.02799318]),\n",
       " array([2669.93380401]),\n",
       " array([2654.08163554]),\n",
       " array([2610.81291844]),\n",
       " array([2568.23684623]),\n",
       " array([2590.6437363]),\n",
       " array([2651.15533577]),\n",
       " array([2646.2514476]),\n",
       " array([2657.88662479]),\n",
       " array([2713.77279928]),\n",
       " array([2728.68838344]),\n",
       " array([2787.30603524]),\n",
       " array([2764.16586879]),\n",
       " array([2824.27312848]),\n",
       " array([2896.72685052]),\n",
       " array([2803.94577015]),\n",
       " array([2796.41638417]),\n",
       " array([2801.20375828]),\n",
       " array([2830.2632166]),\n",
       " array([2727.79986617]),\n",
       " array([2686.86937211]),\n",
       " array([2697.60458134]),\n",
       " array([2694.58792525]),\n",
       " array([2728.16078812]),\n",
       " array([2777.17349248]),\n",
       " array([2779.21506562]),\n",
       " array([2792.94280803]),\n",
       " array([2778.0018371]),\n",
       " array([2778.30864966]),\n",
       " array([2754.6264278]),\n",
       " array([2725.90619007]),\n",
       " array([2640.86498732]),\n",
       " array([2597.97181339]),\n",
       " array([2642.60010254]),\n",
       " array([2570.19017989]),\n",
       " array([2598.45759352]),\n",
       " array([2634.9754706]),\n",
       " array([2657.04848218]),\n",
       " array([2645.13362869]),\n",
       " array([2602.11154013]),\n",
       " array([2629.11379917]),\n",
       " array([2557.73369017]),\n",
       " array([2577.82552047]),\n",
       " array([2585.96042409]),\n",
       " array([2533.85348889]),\n",
       " array([2554.73529183]),\n",
       " array([2555.58550932]),\n",
       " array([2550.98574828]),\n",
       " array([2566.64631896]),\n",
       " array([2565.51666047]),\n",
       " array([2627.21821221]),\n",
       " array([2674.12287845]),\n",
       " array([2653.67871064]),\n",
       " array([2699.90201817]),\n",
       " array([2737.71607143]),\n",
       " array([2722.37425733]),\n",
       " array([2740.68324092]),\n",
       " array([2743.44447965]),\n",
       " array([2735.74506329]),\n",
       " array([2719.39500869]),\n",
       " array([2725.14502689]),\n",
       " array([2615.01498183]),\n",
       " array([2523.3215407]),\n",
       " array([2502.26090027]),\n",
       " array([2421.380886]),\n",
       " array([2292.75246322]),\n",
       " array([2337.91728879]),\n",
       " array([2314.99210709]),\n",
       " array([2292.58741611]),\n",
       " array([2312.43219123]),\n",
       " array([2300.71210367]),\n",
       " array([2311.09123098]),\n",
       " array([2353.16659746]),\n",
       " array([2382.18857628]),\n",
       " array([2455.92681432]),\n",
       " array([2407.7434499]),\n",
       " array([2328.97106741]),\n",
       " array([2327.82007767]),\n",
       " array([2321.21619532]),\n",
       " array([2357.74911698]),\n",
       " array([2353.15920976]),\n",
       " array([2390.76988304]),\n",
       " array([2432.28123563]),\n",
       " array([2428.86545603]),\n",
       " array([2440.97703893]),\n",
       " array([2424.18377476]),\n",
       " array([2411.51562125]),\n",
       " array([2426.48259666]),\n",
       " array([2449.40749052]),\n",
       " array([2437.70824245]),\n",
       " array([2451.84801421]),\n",
       " array([2463.79150928]),\n",
       " array([2476.84413776]),\n",
       " array([2506.93174252]),\n",
       " array([2551.16054504]),\n",
       " array([2620.53720347]),\n",
       " array([2607.51603077]),\n",
       " array([2655.36044407]),\n",
       " array([2639.2460171]),\n",
       " array([2673.93032574]),\n",
       " array([2733.70905352]),\n",
       " array([2674.24954629]),\n",
       " array([2658.52954748]),\n",
       " array([2657.90847969]),\n",
       " array([2704.50938342]),\n",
       " array([2695.75777283]),\n",
       " array([2632.63591548]),\n",
       " array([2650.34871816]),\n",
       " array([2654.84162434]),\n",
       " array([2652.88927246]),\n",
       " array([2654.19266699]),\n",
       " array([2724.27511812]),\n",
       " array([2732.61773483]),\n",
       " array([2695.39353059]),\n",
       " array([2744.70319971]),\n",
       " array([2773.10548262]),\n",
       " array([2818.70957163]),\n",
       " array([2804.35643246]),\n",
       " array([2752.5724628]),\n",
       " array([2771.87054389]),\n",
       " array([2786.94853387]),\n",
       " array([2749.75967179]),\n",
       " array([2755.39679751]),\n",
       " array([2786.71393629]),\n",
       " array([2719.98921198]),\n",
       " array([2729.75856377]),\n",
       " array([2749.31205151]),\n",
       " array([2755.08535401]),\n",
       " array([2773.32205685]),\n",
       " array([2828.65723443]),\n",
       " array([2883.21071843]),\n",
       " array([2830.30500879]),\n",
       " array([2821.24952094]),\n",
       " array([2887.3765431]),\n",
       " array([2889.94839843]),\n",
       " array([2916.95111247]),\n",
       " array([2946.61900394]),\n",
       " array([2972.01011087]),\n",
       " array([2992.16773373]),\n",
       " array([2997.30067398]),\n",
       " array([2999.52967521]),\n",
       " array([2979.9669807]),\n",
       " array([3004.59865286]),\n",
       " array([3010.95367902]),\n",
       " array([2998.55781661]),\n",
       " array([2976.44860555]),\n",
       " array([2960.8353013]),\n",
       " array([2987.94729841]),\n",
       " array([3012.11276287]),\n",
       " array([3079.82843266]),\n",
       " array([3190.17879097]),\n",
       " array([3212.44058721]),\n",
       " array([3198.14014887]),\n",
       " array([3196.33420998]),\n",
       " array([3232.23411757]),\n",
       " array([3313.52579442]),\n",
       " array([3215.47876419]),\n",
       " array([3201.94979342]),\n",
       " array([3241.51351989]),\n",
       " array([3201.55486166]),\n",
       " array([3096.65230394]),\n",
       " array([2970.0084881]),\n",
       " array([3003.94086196]),\n",
       " array([3014.52305215]),\n",
       " array([2939.76526846]),\n",
       " array([2936.34113638]),\n",
       " array([2942.37090534]),\n",
       " array([2905.59883429]),\n",
       " array([2920.66126852]),\n",
       " array([2970.98566494]),\n",
       " array([2961.77101697]),\n",
       " array([3035.21546294]),\n",
       " array([3106.19588162]),\n",
       " array([3071.00246751]),\n",
       " array([3038.89555356]),\n",
       " array([3100.79942222]),\n",
       " array([3173.0342759]),\n",
       " array([3174.44580995]),\n",
       " array([3246.78650612]),\n",
       " array([3399.40565332]),\n",
       " array([3433.2361791]),\n",
       " array([3402.49547557]),\n",
       " array([3437.76802917]),\n",
       " array([3471.677342]),\n",
       " array([3431.61672411]),\n",
       " array([3439.12164379]),\n",
       " array([3436.42576056]),\n",
       " array([3526.96783008]),\n",
       " array([3527.35621412]),\n",
       " array([3522.89002527]),\n",
       " array([3521.85919761]),\n",
       " array([3575.97945]),\n",
       " array([3575.3065954]),\n",
       " array([3608.06923128]),\n",
       " array([3605.56977675]),\n",
       " array([3626.81664664]),\n",
       " array([3590.61977586]),\n",
       " array([3498.36652104]),\n",
       " array([3481.68069459]),\n",
       " array([3402.20094445]),\n",
       " array([3317.08936341]),\n",
       " array([3366.80493498]),\n",
       " array([3410.6113695]),\n",
       " array([3426.44960502]),\n",
       " array([3371.01822758]),\n",
       " array([3354.37574059]),\n",
       " array([3138.85361713]),\n",
       " array([3169.27042914]),\n",
       " array([3172.09707958]),\n",
       " array([3200.61074237]),\n",
       " array([3240.13898484]),\n",
       " array([3199.94081142]),\n",
       " array([3128.79434803]),\n",
       " array([3139.77766093]),\n",
       " array([3149.20026482]),\n",
       " array([3184.9735124]),\n",
       " array([3248.09995288]),\n",
       " array([3203.69935388]),\n",
       " array([3216.90784329]),\n",
       " array([3149.43078824]),\n",
       " array([3062.96625042]),\n",
       " array([3048.11511187]),\n",
       " array([3077.56272091]),\n",
       " array([3171.42501666]),\n",
       " array([3204.81676095]),\n",
       " array([3213.2775382]),\n",
       " array([3203.08716973]),\n",
       " array([3241.51151918]),\n",
       " array([3289.69534735]),\n",
       " array([3322.07348747]),\n",
       " array([3300.2238935]),\n",
       " array([3334.42510847]),\n",
       " array([3364.50286816]),\n",
       " array([3345.97839583]),\n",
       " array([3203.453454]),\n",
       " array([3245.82162253]),\n",
       " array([3384.46986501]),\n",
       " array([3221.33909788]),\n",
       " array([3128.26742142]),\n",
       " array([3101.97473645]),\n",
       " array([3109.54677575]),\n",
       " array([3076.27318039]),\n",
       " array([3043.53023032]),\n",
       " array([3106.01351377]),\n",
       " array([3133.41585227]),\n",
       " array([3147.61988046]),\n",
       " array([3337.66474538]),\n",
       " array([3336.99941429]),\n",
       " array([3335.19856875]),\n",
       " array([3353.72126025]),\n",
       " array([3384.40120083]),\n",
       " array([3404.5244431]),\n",
       " array([3386.43544455]),\n",
       " array([3357.41396786]),\n",
       " array([3277.9685349]),\n",
       " array([3256.86965228]),\n",
       " array([3288.60903346]),\n",
       " array([3395.27178512]),\n",
       " array([3403.51934806]),\n",
       " array([3378.89830089]),\n",
       " array([3443.78787978]),\n",
       " array([3469.6042509]),\n",
       " array([3430.60765289]),\n",
       " array([3469.18618089]),\n",
       " array([3433.28527913]),\n",
       " array([3372.53346447]),\n",
       " array([3315.25163213]),\n",
       " array([3452.83432741]),\n",
       " array([3428.53636834]),\n",
       " array([3414.01404569]),\n",
       " array([3428.51015256]),\n",
       " array([3461.27135036]),\n",
       " array([3513.68889585]),\n",
       " array([3506.31119156]),\n",
       " array([3437.97833236]),\n",
       " array([3417.12575401]),\n",
       " array([3433.95289452]),\n",
       " array([3495.53542589]),\n",
       " array([3533.42639269]),\n",
       " array([3679.4076448]),\n",
       " array([3676.5152403]),\n",
       " array([3746.53643129]),\n",
       " array([3737.29836571]),\n",
       " array([3795.2751771]),\n",
       " array([3795.83567827]),\n",
       " array([3746.59277769]),\n",
       " array([3678.15622387]),\n",
       " array([3652.11681132]),\n",
       " array([3570.64211478]),\n",
       " array([3460.86534599]),\n",
       " array([3588.21078285]),\n",
       " array([3533.8521784]),\n",
       " array([3473.86689958]),\n",
       " array([3385.38815036]),\n",
       " array([3421.45738678]),\n",
       " array([3389.85465692]),\n",
       " array([3305.02657788]),\n",
       " array([3405.3138598]),\n",
       " array([3407.77894845]),\n",
       " array([3343.75769704]),\n",
       " array([3280.2828304]),\n",
       " array([3361.57512324]),\n",
       " array([3365.00011147]),\n",
       " array([3469.38689914]),\n",
       " array([3492.40448034]),\n",
       " array([3511.02716717]),\n",
       " array([3492.86886133]),\n",
       " array([3628.66572802]),\n",
       " array([3636.331552]),\n",
       " array([3596.30275572]),\n",
       " array([3620.11506872]),\n",
       " array([3646.87105656]),\n",
       " array([3581.42776318]),\n",
       " array([3545.3989686]),\n",
       " array([3595.74812514]),\n",
       " array([3527.60440143]),\n",
       " array([3534.68533049]),\n",
       " array([3544.19563784]),\n",
       " array([3470.22068929]),\n",
       " array([3427.79486115]),\n",
       " array([3429.11296019]),\n",
       " array([3419.94707486]),\n",
       " array([3407.97231744]),\n",
       " array([3318.5342072]),\n",
       " array([3372.8799194]),\n",
       " array([3316.47409339]),\n",
       " array([3316.18389399]),\n",
       " array([3325.81182471]),\n",
       " array([3284.99340602]),\n",
       " array([3351.73770347]),\n",
       " array([3380.96944457]),\n",
       " array([3380.09166387]),\n",
       " array([3426.19671815]),\n",
       " array([3443.36991838]),\n",
       " array([3431.02950269]),\n",
       " array([3487.74992757]),\n",
       " array([3532.66840062]),\n",
       " array([3516.20528885]),\n",
       " array([3558.99865491]),\n",
       " array([3574.85039433]),\n",
       " array([3543.68502969]),\n",
       " array([3590.22586406]),\n",
       " array([3725.60605874]),\n",
       " array([3735.51660788]),\n",
       " array([3709.99964623]),\n",
       " array([3732.23362437]),\n",
       " array([3753.46018501]),\n",
       " array([3758.01364329]),\n",
       " array([3772.97707857]),\n",
       " array([3817.21404754]),\n",
       " array([3868.03318658]),\n",
       " array([3873.92684752]),\n",
       " array([3930.08732076]),\n",
       " array([3847.41015043]),\n",
       " array([3846.235221]),\n",
       " array([3923.78502553]),\n",
       " array([3907.99817326]),\n",
       " array([3847.93400721]),\n",
       " array([3745.6355575]),\n",
       " array([3718.07763864]),\n",
       " array([3935.25376844]),\n",
       " array([4083.34307336]),\n",
       " array([4126.55920699]),\n",
       " array([4148.00639827]),\n",
       " array([4188.81428441]),\n",
       " array([4270.71168326]),\n",
       " array([4254.40302837]),\n",
       " array([4254.97684672]),\n",
       " array([4222.65199349]),\n",
       " array([4280.69971057]),\n",
       " array([4295.13565105]),\n",
       " array([4251.51742862]),\n",
       " array([4176.38226735]),\n",
       " array([4198.21156964]),\n",
       " array([4241.00659197]),\n",
       " array([4299.15331021]),\n",
       " array([4235.59597476]),\n",
       " array([4024.93996591]),\n",
       " array([4123.1905506]),\n",
       " array([4073.3739735]),\n",
       " array([4131.75620143]),\n",
       " array([4186.56767206]),\n",
       " array([4304.61996631]),\n",
       " array([4237.72089415]),\n",
       " array([4188.38864855]),\n",
       " array([4217.22827665]),\n",
       " array([4046.77771097]),\n",
       " array([3943.65245972]),\n",
       " array([3997.51235871]),\n",
       " array([4054.7036394]),\n",
       " array([3964.46537072]),\n",
       " array([4015.16379285]),\n",
       " array([4049.61259246]),\n",
       " array([3989.70831907]),\n",
       " array([4011.68528385]),\n",
       " array([4009.53260057]),\n",
       " array([3953.71755507]),\n",
       " array([3930.73135473]),\n",
       " array([3940.56219322]),\n",
       " array([3975.66890296]),\n",
       " array([4206.91155136]),\n",
       " array([4063.65328136]),\n",
       " array([4153.25737861]),\n",
       " array([4243.72280764]),\n",
       " array([4169.45255908]),\n",
       " array([4248.18401733]),\n",
       " array([4195.03264815]),\n",
       " array([4224.63186628]),\n",
       " array([4263.2951154]),\n",
       " array([4181.14794886]),\n",
       " array([4231.26699664]),\n",
       " array([4199.61438208]),\n",
       " array([4207.05791296]),\n",
       " array([4276.17852468]),\n",
       " array([4350.1383727]),\n",
       " array([4312.01905436]),\n",
       " array([4161.35399637]),\n",
       " array([4197.62703967]),\n",
       " array([4212.36083673]),\n",
       " array([4177.226508]),\n",
       " array([4110.72105032]),\n",
       " array([4232.18142341]),\n",
       " array([4284.37920385]),\n",
       " array([4288.12023927]),\n",
       " array([4333.55629405]),\n",
       " array([4320.44212651]),\n",
       " array([4243.8591509]),\n",
       " array([3589.81824892]),\n",
       " array([3518.38054428]),\n",
       " array([3361.11444823]),\n",
       " array([3406.22737387]),\n",
       " array([3535.2913934]),\n",
       " array([3430.10331551]),\n",
       " array([3351.79247473]),\n",
       " array([3279.72358832]),\n",
       " array([3367.60562479]),\n",
       " array([3421.70020687]),\n",
       " array([3379.64537516]),\n",
       " array([3068.91366126]),\n",
       " array([3106.40880522]),\n",
       " array([3137.09404798]),\n",
       " array([3221.02049645]),\n",
       " array([3253.52411543]),\n",
       " array([3211.33366828]),\n",
       " array([3190.04425484]),\n",
       " array([3182.21109014]),\n",
       " array([3055.56044349]),\n",
       " array([2992.50214719]),\n",
       " array([3008.01058702]),\n",
       " array([2973.33340454]),\n",
       " array([3015.42657572]),\n",
       " array([2995.0474179]),\n",
       " array([3002.45411457]),\n",
       " array([3021.21087063]),\n",
       " array([2969.37345918]),\n",
       " array([3012.85502113]),\n",
       " array([3004.44077497]),\n",
       " array([3024.27979422]),\n",
       " array([3009.62637025]),\n",
       " array([3129.87829676]),\n",
       " array([3099.06860739]),\n",
       " array([3113.50010931]),\n",
       " array([3109.67915605]),\n",
       " array([3107.41751796]),\n",
       " array([3052.83758827]),\n",
       " array([3073.29477481]),\n",
       " array([3049.39130791]),\n",
       " array([2986.17879865]),\n",
       " array([3016.05532633]),\n",
       " array([2929.5706252]),\n",
       " array([2922.18353482]),\n",
       " array([2896.0128639]),\n",
       " array([2918.93528796]),\n",
       " array([2941.2151839]),\n",
       " array([2867.29953467]),\n",
       " array([2918.53004424]),\n",
       " array([2871.81998426]),\n",
       " array([2743.91866795]),\n",
       " array([2899.60930196]),\n",
       " array([2914.13791186]),\n",
       " array([2968.05573999]),\n",
       " array([3012.56912338]),\n",
       " array([3107.93711653]),\n",
       " array([3041.80983546]),\n",
       " array([3040.86819806]),\n",
       " array([3010.37198494]),\n",
       " array([3009.8101481]),\n",
       " array([3122.36185762]),\n",
       " array([3066.52096192]),\n",
       " array([2941.67555477]),\n",
       " array([2883.81755626]),\n",
       " array([2897.14536551]),\n",
       " array([2851.35277873]),\n",
       " array([2861.07677357]),\n",
       " array([2859.22545506]),\n",
       " array([2969.76147018]),\n",
       " array([3116.81589748]),\n",
       " array([3043.71847633]),\n",
       " array([3100.70977141]),\n",
       " array([3082.59691539]),\n",
       " array([3003.46192778]),\n",
       " array([2996.5224748]),\n",
       " array([3000.90523463]),\n",
       " array([3042.42694052]),\n",
       " array([3023.61852236]),\n",
       " array([3011.2960903]),\n",
       " array([3205.71593827]),\n",
       " array([3258.06280174]),\n",
       " array([3200.88161078]),\n",
       " array([3215.44299632]),\n",
       " array([3184.46766969]),\n",
       " array([3214.39915482]),\n",
       " array([3239.17017846]),\n",
       " array([3122.0531582]),\n",
       " array([3156.31450393]),\n",
       " array([3131.93953662]),\n",
       " array([3174.60431551]),\n",
       " array([3185.79016697]),\n",
       " array([3043.13645103]),\n",
       " array([3048.51134512]),\n",
       " array([3046.10212108]),\n",
       " array([2934.31849672]),\n",
       " array([3025.24837375]),\n",
       " array([3044.2994317]),\n",
       " array([2969.21922653]),\n",
       " array([3014.4533753]),\n",
       " array([3003.40800597]),\n",
       " array([2999.78147686]),\n",
       " array([3040.28597265]),\n",
       " array([3039.35473503]),\n",
       " array([3026.14223424]),\n",
       " array([3087.93202188]),\n",
       " array([3101.48965863]),\n",
       " array([3086.34165999]),\n",
       " array([3109.70911476]),\n",
       " array([3134.1611732]),\n",
       " array([3141.7220911]),\n",
       " array([3112.51237414]),\n",
       " array([3120.78512682]),\n",
       " array([3134.26761218]),\n",
       " array([3079.2836558]),\n",
       " array([3089.72588502]),\n",
       " array([3009.34979905]),\n",
       " array([2956.07409178]),\n",
       " array([2938.43700954]),\n",
       " array([2934.31505858]),\n",
       " array([2863.30837327]),\n",
       " array([2839.48320528]),\n",
       " array([2937.85755841]),\n",
       " array([2865.06136735]),\n",
       " array([2974.96932354]),\n",
       " array([2916.40939273]),\n",
       " array([3002.18379726]),\n",
       " array([3023.13315865]),\n",
       " array([3019.52380458]),\n",
       " array([3024.90591222]),\n",
       " array([3034.4525402]),\n",
       " array([3029.95121256]),\n",
       " array([3024.72948232]),\n",
       " array([3054.67702907]),\n",
       " array([3094.65051415]),\n",
       " array([3116.26653738]),\n",
       " array([3172.02160839]),\n",
       " array([3182.28277585]),\n",
       " array([3179.3355835]),\n",
       " array([3176.12679731]),\n",
       " array([3159.34219094]),\n",
       " array([3151.69744898]),\n",
       " array([3158.38123081]),\n",
       " array([3137.7161983]),\n",
       " array([3065.7086427]),\n",
       " array([3067.98449425]),\n",
       " array([3096.0962939]),\n",
       " array([3098.85139843]),\n",
       " array([3084.58735244]),\n",
       " array([3044.98263959]),\n",
       " array([3000.90723243]),\n",
       " array([3065.57840376]),\n",
       " array([3052.0660562]),\n",
       " array([3106.07903667]),\n",
       " array([3177.86800041]),\n",
       " array([3147.23504791]),\n",
       " array([3249.93546144]),\n",
       " array([3276.56602261]),\n",
       " array([3268.00151638]),\n",
       " array([3389.31374234]),\n",
       " array([3492.67102526]),\n",
       " array([3422.60571089]),\n",
       " array([3445.43522269]),\n",
       " array([3535.11825894]),\n",
       " array([3563.21209355]),\n",
       " array([3627.15247954]),\n",
       " array([3591.26847185]),\n",
       " array([3613.50951785]),\n",
       " array([3583.13607737]),\n",
       " array([3587.95582937]),\n",
       " array([3569.0072222]),\n",
       " array([3587.929168]),\n",
       " array([3686.41291476]),\n",
       " array([3610.61009984]),\n",
       " array([3593.08654746]),\n",
       " array([3477.67832262]),\n",
       " array([3307.76247277]),\n",
       " array([2953.87258694]),\n",
       " array([2969.08106198]),\n",
       " array([2957.16378124]),\n",
       " array([2987.00134677]),\n",
       " array([2979.57371841]),\n",
       " array([2932.52596419]),\n",
       " array([2965.40464401]),\n",
       " array([3016.79926703]),\n",
       " array([3038.08873561]),\n",
       " array([3035.86389354]),\n",
       " array([2994.26996382]),\n",
       " array([3012.22973452]),\n",
       " array([3014.56554196]),\n",
       " array([3006.15371527]),\n",
       " array([3004.93389692]),\n",
       " array([3030.35212587]),\n",
       " array([3009.21351849]),\n",
       " array([3012.14328366]),\n",
       " array([3010.60221848]),\n",
       " array([3043.24706641]),\n",
       " array([3052.32766777]),\n",
       " array([3037.77935361]),\n",
       " array([3053.10394629]),\n",
       " array([3096.00602743]),\n",
       " array([3089.62926845]),\n",
       " array([3096.22724177]),\n",
       " array([3126.30223105]),\n",
       " array([3134.18258571]),\n",
       " array([3138.23216074]),\n",
       " array([3193.39900798]),\n",
       " array([3194.16678398]),\n",
       " array([3128.96547247]),\n",
       " array([3159.88857925]),\n",
       " array([3142.19366627]),\n",
       " array([3150.29909367]),\n",
       " array([3160.00031741]),\n",
       " array([3157.68557072]),\n",
       " array([3152.57531337]),\n",
       " array([3149.44650505]),\n",
       " array([3186.44156534]),\n",
       " array([3202.38791365]),\n",
       " array([3188.09377101]),\n",
       " array([3200.63729143]),\n",
       " array([3130.06766451]),\n",
       " array([3104.18374116]),\n",
       " array([3171.04535541]),\n",
       " array([3149.82820517]),\n",
       " array([3117.39108012]),\n",
       " array([3073.84049109]),\n",
       " array([3054.18790588]),\n",
       " array([3084.8902319]),\n",
       " array([3049.50034533]),\n",
       " array([3028.08790698]),\n",
       " array([3031.22633055]),\n",
       " array([3048.89425898]),\n",
       " array([3068.30486746]),\n",
       " array([3079.5999954]),\n",
       " array([3116.31313464]),\n",
       " array([3086.49381842]),\n",
       " array([3209.8302957]),\n",
       " array([3249.21093843]),\n",
       " array([3326.15973353]),\n",
       " array([3365.59333418]),\n",
       " array([3317.82546172]),\n",
       " array([3251.67819342]),\n",
       " array([3265.42978533]),\n",
       " array([3066.11735507]),\n",
       " array([3108.40055345]),\n",
       " array([3133.86006045]),\n",
       " array([3297.71323009]),\n",
       " array([3278.91305235]),\n",
       " array([3241.91932568]),\n",
       " array([3316.90219116]),\n",
       " array([3203.79159846]),\n",
       " array([3202.44898983]),\n",
       " array([3223.58325438]),\n",
       " array([3127.38663827]),\n",
       " array([3119.75788322]),\n",
       " array([3135.55349076]),\n",
       " array([3111.56508597]),\n",
       " array([3173.95776982]),\n",
       " array([3175.57631047]),\n",
       " array([3186.28400566]),\n",
       " array([3198.13059917]),\n",
       " array([3242.41516762]),\n",
       " array([3175.10850853]),\n",
       " array([3164.02313468]),\n",
       " array([3203.26332025]),\n",
       " array([3184.28845528]),\n",
       " array([3212.91753534]),\n",
       " array([3185.60436907]),\n",
       " array([3142.52021343]),\n",
       " array([3170.77466913]),\n",
       " array([3149.29408964]),\n",
       " array([3102.65654524]),\n",
       " array([3109.43796297]),\n",
       " array([3068.45005025]),\n",
       " array([3044.53694577]),\n",
       " array([3039.01485962]),\n",
       " array([3011.98673795]),\n",
       " array([2998.21525016]),\n",
       " array([2986.90996706]),\n",
       " array([3041.13933363]),\n",
       " array([3074.76122237]),\n",
       " array([3063.30380638]),\n",
       " array([3057.91378344]),\n",
       " array([3086.38810912]),\n",
       " array([3072.46441892]),\n",
       " array([3091.99782033]),\n",
       " array([3142.12837003]),\n",
       " array([3160.99006031]),\n",
       " array([3048.07929707]),\n",
       " array([3038.31834005]),\n",
       " array([3049.89468108]),\n",
       " array([3006.99503921]),\n",
       " array([2977.19455026]),\n",
       " array([2988.5360446]),\n",
       " array([2978.24960655]),\n",
       " array([2945.34170379]),\n",
       " array([2940.42233922]),\n",
       " array([2950.53939856]),\n",
       " array([2922.42766718]),\n",
       " array([2978.08057615]),\n",
       " array([3001.04642417]),\n",
       " array([2991.64505386]),\n",
       " array([3018.20556096]),\n",
       " array([3019.77930344]),\n",
       " array([2998.48326713]),\n",
       " array([3106.70297205]),\n",
       " array([3151.58338151]),\n",
       " array([3086.4504843]),\n",
       " array([3059.07454163]),\n",
       " array([3014.20482208]),\n",
       " array([3026.30109979]),\n",
       " array([2975.40018538]),\n",
       " array([2965.78330887]),\n",
       " array([2942.62334074]),\n",
       " array([2909.36291063]),\n",
       " array([2926.43211932]),\n",
       " array([2914.301485]),\n",
       " array([2897.02423194]),\n",
       " array([2894.72600562]),\n",
       " array([2905.53123767]),\n",
       " array([2886.73311461]),\n",
       " array([2853.79780579]),\n",
       " array([2850.64380348]),\n",
       " array([2933.06047352]),\n",
       " array([2866.7736788]),\n",
       " array([2866.40828684]),\n",
       " array([2861.74014716]),\n",
       " array([2852.05507679]),\n",
       " array([2847.55726845]),\n",
       " array([2691.90658053]),\n",
       " array([2716.87916676]),\n",
       " array([2753.49663286]),\n",
       " array([2739.35026606]),\n",
       " array([2751.67453194]),\n",
       " array([2735.40020847]),\n",
       " array([2733.76046042]),\n",
       " array([2614.00394305]),\n",
       " array([2630.20421135]),\n",
       " array([2639.30154965]),\n",
       " array([2628.12176386]),\n",
       " array([2632.64078647]),\n",
       " array([2638.98459585]),\n",
       " array([2633.51361678]),\n",
       " array([2611.33744001]),\n",
       " array([2634.8062267]),\n",
       " array([2757.23075361]),\n",
       " array([2740.83560021]),\n",
       " array([2708.84364169]),\n",
       " array([2656.44246178]),\n",
       " array([2635.15887438]),\n",
       " array([2631.54938549]),\n",
       " array([2648.64126286]),\n",
       " array([2641.64638253]),\n",
       " array([2662.52371561]),\n",
       " array([2626.11028911]),\n",
       " array([2604.27762891]),\n",
       " array([2615.59266269]),\n",
       " array([2611.29423564]),\n",
       " array([2613.20386734]),\n",
       " array([2649.83373002]),\n",
       " array([2607.64743007]),\n",
       " array([2593.22284864]),\n",
       " array([2602.1973324]),\n",
       " array([2582.48137921]),\n",
       " array([2597.05283541]),\n",
       " array([2608.64381984]),\n",
       " array([2602.33674553]),\n",
       " array([2599.99594899]),\n",
       " array([2579.92868199]),\n",
       " array([2605.48071091]),\n",
       " array([2595.02102231]),\n",
       " array([2578.46676463]),\n",
       " array([2685.93793717]),\n",
       " array([2730.54840058]),\n",
       " array([2732.41685191]),\n",
       " array([2670.53636167]),\n",
       " array([2653.63286754]),\n",
       " array([2608.41289129]),\n",
       " array([2578.37703622]),\n",
       " array([2514.21474959]),\n",
       " array([2420.90446218]),\n",
       " array([2417.22043497]),\n",
       " array([2433.35228932]),\n",
       " array([2488.27993604]),\n",
       " array([2528.05574265]),\n",
       " array([2519.55406851]),\n",
       " array([2555.20749857]),\n",
       " array([2534.68528361]),\n",
       " array([2548.80760106]),\n",
       " array([2541.58765105]),\n",
       " array([2645.23216951]),\n",
       " array([2629.72257404]),\n",
       " array([2624.20807493]),\n",
       " array([2627.32983822]),\n",
       " array([2673.86034659]),\n",
       " array([2704.58133044]),\n",
       " array([2678.54525043]),\n",
       " array([2653.15362395]),\n",
       " array([2679.44885546]),\n",
       " array([2690.45329025]),\n",
       " array([2629.74889956]),\n",
       " array([2643.92030751]),\n",
       " array([2658.06491826]),\n",
       " array([2651.57521635]),\n",
       " array([2651.28633708]),\n",
       " array([2694.47590586]),\n",
       " array([2682.49858399]),\n",
       " array([2615.66140765]),\n",
       " array([2669.69647523]),\n",
       " array([2672.84908461]),\n",
       " array([2706.74825128]),\n",
       " array([2728.71355835]),\n",
       " array([2685.83069932]),\n",
       " array([2688.86832513]),\n",
       " array([2697.22756442]),\n",
       " array([2704.45181525]),\n",
       " array([2696.93302128]),\n",
       " array([2720.91164101]),\n",
       " array([2780.39475578]),\n",
       " array([2747.01633656]),\n",
       " array([2760.39582196]),\n",
       " array([2692.17201899]),\n",
       " array([2690.99109915]),\n",
       " array([2713.8269163]),\n",
       " array([2612.70035934]),\n",
       " array([2448.37600607]),\n",
       " array([2380.24000639]),\n",
       " array([2447.20795708]),\n",
       " array([2379.22153503]),\n",
       " array([2315.44937281]),\n",
       " array([2234.47726886]),\n",
       " array([2207.09138614]),\n",
       " array([2089.62695087]),\n",
       " array([2044.98253695]),\n",
       " array([1940.32214707]),\n",
       " array([2020.51458366]),\n",
       " array([2008.80101649]),\n",
       " array([2001.53998645]),\n",
       " array([2012.82957537]),\n",
       " array([1979.15445518]),\n",
       " array([1925.46152397]),\n",
       " array([1991.37360882]),\n",
       " array([2039.89874686]),\n",
       " array([2091.47437248]),\n",
       " array([2043.17925281]),\n",
       " array([2037.54219952]),\n",
       " array([2041.38568895]),\n",
       " array([2019.82259238]),\n",
       " array([2238.24994506]),\n",
       " array([2196.22911718]),\n",
       " array([2197.81685817]),\n",
       " array([2197.65151704]),\n",
       " array([2227.11154425]),\n",
       " array([2157.69227339]),\n",
       " array([2157.06571381]),\n",
       " array([2170.8361869]),\n",
       " array([2223.18019529]),\n",
       " array([2257.48004142]),\n",
       " array([2204.24912342]),\n",
       " array([2242.71211371]),\n",
       " array([2244.98685825]),\n",
       " array([2320.34426092]),\n",
       " array([2505.43300397]),\n",
       " array([2452.09956046]),\n",
       " array([2401.93948173]),\n",
       " array([2368.01937057]),\n",
       " array([2300.62785216]),\n",
       " array([2385.55789386]),\n",
       " array([2329.56485624]),\n",
       " array([2331.43339657]),\n",
       " array([2396.38445396]),\n",
       " array([2389.71696989]),\n",
       " array([2371.48704642]),\n",
       " array([2412.46094646]),\n",
       " array([2413.15986786]),\n",
       " array([2366.47417229]),\n",
       " array([2380.54576106]),\n",
       " array([2354.94704648]),\n",
       " array([2408.07233404]),\n",
       " array([2381.66600522]),\n",
       " array([2382.76973702]),\n",
       " array([2373.73025986]),\n",
       " array([2365.5439701]),\n",
       " array([2364.55517565]),\n",
       " array([2348.20919479]),\n",
       " array([2344.33785435]),\n",
       " array([2401.32486264]),\n",
       " array([2444.00006637]),\n",
       " array([2424.55233672]),\n",
       " array([2344.21529197]),\n",
       " array([2417.57091308]),\n",
       " array([2425.62012467]),\n",
       " array([2386.30352348]),\n",
       " array([2376.2945481]),\n",
       " array([2345.55569972]),\n",
       " array([2373.53240653]),\n",
       " array([2348.30492235]),\n",
       " ...]"
      ]
     },
     "execution_count": 81,
     "metadata": {},
     "output_type": "execute_result"
    }
   ],
   "source": [
    "model_predictions"
   ]
  },
  {
   "cell_type": "code",
   "execution_count": null,
   "metadata": {
    "id": "o55I8QJXKfmg"
   },
   "outputs": [],
   "source": []
  }
 ],
 "metadata": {
  "colab": {
   "collapsed_sections": [],
   "name": "StockPrediction_DRREDDY.ipynb",
   "provenance": []
  },
  "kernelspec": {
   "display_name": "Python 3",
   "language": "python",
   "name": "python3"
  },
  "language_info": {
   "codemirror_mode": {
    "name": "ipython",
    "version": 3
   },
   "file_extension": ".py",
   "mimetype": "text/x-python",
   "name": "python",
   "nbconvert_exporter": "python",
   "pygments_lexer": "ipython3",
   "version": "3.8.3"
  }
 },
 "nbformat": 4,
 "nbformat_minor": 1
}
